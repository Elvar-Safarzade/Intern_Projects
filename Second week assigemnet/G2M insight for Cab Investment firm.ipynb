{
 "cells": [
  {
   "cell_type": "markdown",
   "id": "cad8ec26-65d7-4b54-a372-ef93bc7e48f2",
   "metadata": {},
   "source": [
    "**XYZ is a private firm in US. Due to remarkable growth in the Cab Industry in last few years and multiple key players in the market, it is planning for an investment in Cab industry and as per their Go-to-Market(G2M) strategy they want to understand the market before taking final decision.**"
   ]
  },
  {
   "cell_type": "markdown",
   "id": "79c550c3-6e89-4c10-be5c-e16261a60350",
   "metadata": {},
   "source": [
    "**Data Set:\n",
    "\n",
    "**You have been provided 4 individual data sets. Time period of data is from 31/01/2016 to 31/12/2018.\n",
    "\n",
    "**Below are the list of datasets which are provided for the analysis:\n",
    "\n",
    "**Cab_Data.csv – this file includes details of transaction for 2 cab companies\n",
    "\n",
    "**Customer_ID.csv – this is a mapping table that contains a unique identifier which links the customer’s demographic details\n",
    "\n",
    "**Transaction_ID.csv – this is a mapping table that contains transaction to customer mapping and payment mode\n",
    "\n",
    "**City.csv – this file contains list of US cities, their population and number of cab users"
   ]
  },
  {
   "cell_type": "markdown",
   "id": "438d4016-8a0a-4a9b-a727-0887a192f4dc",
   "metadata": {},
   "source": [
    "**First of all we joined all of dataset in SQL Management Studio to analysis dataset in Jupyter Notebook**"
   ]
  },
  {
   "cell_type": "code",
   "execution_count": null,
   "id": "44028054-ca69-460a-8618-2e93457b0f5e",
   "metadata": {},
   "outputs": [],
   "source": []
  },
  {
   "cell_type": "code",
   "execution_count": 221,
   "id": "7d58c604-c824-4baa-8a10-16036590cc35",
   "metadata": {},
   "outputs": [],
   "source": [
    "import pandas as pd\n",
    "import matplotlib.pyplot as plt\n",
    "import seaborn as sns\n",
    "import warnings\n",
    "warnings.simplefilter(action='ignore', category=Warning)"
   ]
  },
  {
   "cell_type": "code",
   "execution_count": 222,
   "id": "99d18438-bc62-4c0c-b567-c86de3c03d5a",
   "metadata": {},
   "outputs": [
    {
     "data": {
      "text/html": [
       "<div>\n",
       "<style scoped>\n",
       "    .dataframe tbody tr th:only-of-type {\n",
       "        vertical-align: middle;\n",
       "    }\n",
       "\n",
       "    .dataframe tbody tr th {\n",
       "        vertical-align: top;\n",
       "    }\n",
       "\n",
       "    .dataframe thead th {\n",
       "        text-align: right;\n",
       "    }\n",
       "</style>\n",
       "<table border=\"1\" class=\"dataframe\">\n",
       "  <thead>\n",
       "    <tr style=\"text-align: right;\">\n",
       "      <th></th>\n",
       "      <th>Transaction ID</th>\n",
       "      <th>Date of Travel</th>\n",
       "      <th>Company</th>\n",
       "      <th>City</th>\n",
       "      <th>Population</th>\n",
       "      <th>Users</th>\n",
       "      <th>KM Travelled</th>\n",
       "      <th>Price Charged</th>\n",
       "      <th>Cost of Trip</th>\n",
       "      <th>Payment_Mode</th>\n",
       "      <th>Customer_ID</th>\n",
       "      <th>Gender</th>\n",
       "      <th>Age</th>\n",
       "      <th>Income (USD/Month)</th>\n",
       "    </tr>\n",
       "  </thead>\n",
       "  <tbody>\n",
       "    <tr>\n",
       "      <th>0</th>\n",
       "      <td>10000011.0</td>\n",
       "      <td>42377.0</td>\n",
       "      <td>Pink Cab</td>\n",
       "      <td>ATLANTA GA</td>\n",
       "      <td>814885.0</td>\n",
       "      <td>24701.0</td>\n",
       "      <td>30.450001</td>\n",
       "      <td>370.950012</td>\n",
       "      <td>313.635010</td>\n",
       "      <td>Card</td>\n",
       "      <td>29290</td>\n",
       "      <td>Male</td>\n",
       "      <td>28.0</td>\n",
       "      <td>10813.0</td>\n",
       "    </tr>\n",
       "    <tr>\n",
       "      <th>1</th>\n",
       "      <td>10000012.0</td>\n",
       "      <td>42375.0</td>\n",
       "      <td>Pink Cab</td>\n",
       "      <td>ATLANTA GA</td>\n",
       "      <td>814885.0</td>\n",
       "      <td>24701.0</td>\n",
       "      <td>28.620001</td>\n",
       "      <td>358.519989</td>\n",
       "      <td>334.854004</td>\n",
       "      <td>Card</td>\n",
       "      <td>27703</td>\n",
       "      <td>Male</td>\n",
       "      <td>27.0</td>\n",
       "      <td>9237.0</td>\n",
       "    </tr>\n",
       "  </tbody>\n",
       "</table>\n",
       "</div>"
      ],
      "text/plain": [
       "   Transaction ID  Date of Travel   Company        City  Population    Users  \\\n",
       "0      10000011.0         42377.0  Pink Cab  ATLANTA GA    814885.0  24701.0   \n",
       "1      10000012.0         42375.0  Pink Cab  ATLANTA GA    814885.0  24701.0   \n",
       "\n",
       "   KM Travelled  Price Charged  Cost of Trip Payment_Mode  Customer_ID Gender  \\\n",
       "0     30.450001     370.950012    313.635010         Card        29290   Male   \n",
       "1     28.620001     358.519989    334.854004         Card        27703   Male   \n",
       "\n",
       "    Age  Income (USD/Month)  \n",
       "0  28.0             10813.0  \n",
       "1  27.0              9237.0  "
      ]
     },
     "execution_count": 222,
     "metadata": {},
     "output_type": "execute_result"
    }
   ],
   "source": [
    "df1=pd.read_csv(r\"C:\\Users\\Lenovo\\Desktop\\İntership Projects\\Second Week\\Final Data.csv\")\n",
    "df1.head(2)"
   ]
  },
  {
   "cell_type": "code",
   "execution_count": null,
   "id": "68df265b-4dac-46fe-9a4e-2220b3f656c0",
   "metadata": {},
   "outputs": [],
   "source": []
  },
  {
   "cell_type": "code",
   "execution_count": 223,
   "id": "8467a5ae-4818-40fd-8238-017117bb8602",
   "metadata": {},
   "outputs": [],
   "source": [
    "# Let's convert the 'Date of Travel' column to datetime format\n",
    "df1['Date of Travel'] = pd.to_datetime(df1['Date of Travel'], unit='D', origin='1900-01-01')"
   ]
  },
  {
   "cell_type": "code",
   "execution_count": 224,
   "id": "e7aa5653-d63e-4cf7-bffa-d537c9b99d39",
   "metadata": {},
   "outputs": [
    {
     "data": {
      "text/html": [
       "<div>\n",
       "<style scoped>\n",
       "    .dataframe tbody tr th:only-of-type {\n",
       "        vertical-align: middle;\n",
       "    }\n",
       "\n",
       "    .dataframe tbody tr th {\n",
       "        vertical-align: top;\n",
       "    }\n",
       "\n",
       "    .dataframe thead th {\n",
       "        text-align: right;\n",
       "    }\n",
       "</style>\n",
       "<table border=\"1\" class=\"dataframe\">\n",
       "  <thead>\n",
       "    <tr style=\"text-align: right;\">\n",
       "      <th></th>\n",
       "      <th>Transaction ID</th>\n",
       "      <th>Date of Travel</th>\n",
       "      <th>Company</th>\n",
       "      <th>City</th>\n",
       "      <th>Population</th>\n",
       "      <th>Users</th>\n",
       "      <th>KM Travelled</th>\n",
       "      <th>Price Charged</th>\n",
       "      <th>Cost of Trip</th>\n",
       "      <th>Payment_Mode</th>\n",
       "      <th>Customer_ID</th>\n",
       "      <th>Gender</th>\n",
       "      <th>Age</th>\n",
       "      <th>Income (USD/Month)</th>\n",
       "    </tr>\n",
       "  </thead>\n",
       "  <tbody>\n",
       "    <tr>\n",
       "      <th>0</th>\n",
       "      <td>10000011.0</td>\n",
       "      <td>2016-01-10</td>\n",
       "      <td>Pink Cab</td>\n",
       "      <td>ATLANTA GA</td>\n",
       "      <td>814885.0</td>\n",
       "      <td>24701.0</td>\n",
       "      <td>30.450001</td>\n",
       "      <td>370.950012</td>\n",
       "      <td>313.635010</td>\n",
       "      <td>Card</td>\n",
       "      <td>29290</td>\n",
       "      <td>Male</td>\n",
       "      <td>28.0</td>\n",
       "      <td>10813.0</td>\n",
       "    </tr>\n",
       "    <tr>\n",
       "      <th>1</th>\n",
       "      <td>10000012.0</td>\n",
       "      <td>2016-01-08</td>\n",
       "      <td>Pink Cab</td>\n",
       "      <td>ATLANTA GA</td>\n",
       "      <td>814885.0</td>\n",
       "      <td>24701.0</td>\n",
       "      <td>28.620001</td>\n",
       "      <td>358.519989</td>\n",
       "      <td>334.854004</td>\n",
       "      <td>Card</td>\n",
       "      <td>27703</td>\n",
       "      <td>Male</td>\n",
       "      <td>27.0</td>\n",
       "      <td>9237.0</td>\n",
       "    </tr>\n",
       "    <tr>\n",
       "      <th>2</th>\n",
       "      <td>10000013.0</td>\n",
       "      <td>2016-01-04</td>\n",
       "      <td>Pink Cab</td>\n",
       "      <td>ATLANTA GA</td>\n",
       "      <td>814885.0</td>\n",
       "      <td>24701.0</td>\n",
       "      <td>9.040000</td>\n",
       "      <td>125.199997</td>\n",
       "      <td>97.632004</td>\n",
       "      <td>Cash</td>\n",
       "      <td>28712</td>\n",
       "      <td>Male</td>\n",
       "      <td>53.0</td>\n",
       "      <td>11242.0</td>\n",
       "    </tr>\n",
       "    <tr>\n",
       "      <th>3</th>\n",
       "      <td>10000014.0</td>\n",
       "      <td>2016-01-09</td>\n",
       "      <td>Pink Cab</td>\n",
       "      <td>ATLANTA GA</td>\n",
       "      <td>814885.0</td>\n",
       "      <td>24701.0</td>\n",
       "      <td>33.169998</td>\n",
       "      <td>377.399994</td>\n",
       "      <td>351.601990</td>\n",
       "      <td>Cash</td>\n",
       "      <td>28020</td>\n",
       "      <td>Male</td>\n",
       "      <td>23.0</td>\n",
       "      <td>23327.0</td>\n",
       "    </tr>\n",
       "    <tr>\n",
       "      <th>4</th>\n",
       "      <td>10000015.0</td>\n",
       "      <td>2016-01-05</td>\n",
       "      <td>Pink Cab</td>\n",
       "      <td>ATLANTA GA</td>\n",
       "      <td>814885.0</td>\n",
       "      <td>24701.0</td>\n",
       "      <td>8.730000</td>\n",
       "      <td>114.620003</td>\n",
       "      <td>97.776001</td>\n",
       "      <td>Card</td>\n",
       "      <td>27182</td>\n",
       "      <td>Male</td>\n",
       "      <td>33.0</td>\n",
       "      <td>8536.0</td>\n",
       "    </tr>\n",
       "  </tbody>\n",
       "</table>\n",
       "</div>"
      ],
      "text/plain": [
       "   Transaction ID Date of Travel   Company        City  Population    Users  \\\n",
       "0      10000011.0     2016-01-10  Pink Cab  ATLANTA GA    814885.0  24701.0   \n",
       "1      10000012.0     2016-01-08  Pink Cab  ATLANTA GA    814885.0  24701.0   \n",
       "2      10000013.0     2016-01-04  Pink Cab  ATLANTA GA    814885.0  24701.0   \n",
       "3      10000014.0     2016-01-09  Pink Cab  ATLANTA GA    814885.0  24701.0   \n",
       "4      10000015.0     2016-01-05  Pink Cab  ATLANTA GA    814885.0  24701.0   \n",
       "\n",
       "   KM Travelled  Price Charged  Cost of Trip Payment_Mode  Customer_ID Gender  \\\n",
       "0     30.450001     370.950012    313.635010         Card        29290   Male   \n",
       "1     28.620001     358.519989    334.854004         Card        27703   Male   \n",
       "2      9.040000     125.199997     97.632004         Cash        28712   Male   \n",
       "3     33.169998     377.399994    351.601990         Cash        28020   Male   \n",
       "4      8.730000     114.620003     97.776001         Card        27182   Male   \n",
       "\n",
       "    Age  Income (USD/Month)  \n",
       "0  28.0             10813.0  \n",
       "1  27.0              9237.0  \n",
       "2  53.0             11242.0  \n",
       "3  23.0             23327.0  \n",
       "4  33.0              8536.0  "
      ]
     },
     "execution_count": 224,
     "metadata": {},
     "output_type": "execute_result"
    }
   ],
   "source": [
    "df1.head()"
   ]
  },
  {
   "cell_type": "code",
   "execution_count": null,
   "id": "088c2de5-e856-4ef5-82a1-14549ff4c2f5",
   "metadata": {},
   "outputs": [],
   "source": []
  },
  {
   "cell_type": "code",
   "execution_count": 225,
   "id": "eb2f7fae-749e-4cc0-ba7b-156992b1449c",
   "metadata": {},
   "outputs": [],
   "source": [
    "#Let's 'date of travel' separates to year and months and then delete date of travel\n",
    "\n",
    "df1['Travel by Months'] = df1['Date of Travel'].dt.strftime('%B')\n",
    "df1['Travel by Years'] = df1['Date of Travel'].dt.strftime('%Y')\n",
    "df1.drop('Date of Travel', axis =1,inplace =True)"
   ]
  },
  {
   "cell_type": "code",
   "execution_count": null,
   "id": "0743c85c-5d9b-42b6-965b-921cd9bb6dfc",
   "metadata": {},
   "outputs": [],
   "source": []
  },
  {
   "cell_type": "code",
   "execution_count": 226,
   "id": "b6968cc9-0157-4697-a4ce-d073eec1ebbe",
   "metadata": {},
   "outputs": [],
   "source": [
    "df1 = df1.reindex(columns=['Travel by Months', 'Travel by Years', 'Company', 'City','Population','Users', 'KM Travelled', 'Price Charged', 'Cost of Trip', 'Payment_Mode','Customer_ID', 'Gender', 'Age', 'Income (USD/Month)'])\n"
   ]
  },
  {
   "cell_type": "code",
   "execution_count": 227,
   "id": "5e396cc5-3ca1-4fec-8650-4577df63f1f2",
   "metadata": {},
   "outputs": [
    {
     "data": {
      "text/html": [
       "<div>\n",
       "<style scoped>\n",
       "    .dataframe tbody tr th:only-of-type {\n",
       "        vertical-align: middle;\n",
       "    }\n",
       "\n",
       "    .dataframe tbody tr th {\n",
       "        vertical-align: top;\n",
       "    }\n",
       "\n",
       "    .dataframe thead th {\n",
       "        text-align: right;\n",
       "    }\n",
       "</style>\n",
       "<table border=\"1\" class=\"dataframe\">\n",
       "  <thead>\n",
       "    <tr style=\"text-align: right;\">\n",
       "      <th></th>\n",
       "      <th>Travel by Months</th>\n",
       "      <th>Travel by Years</th>\n",
       "      <th>Company</th>\n",
       "      <th>City</th>\n",
       "      <th>Population</th>\n",
       "      <th>Users</th>\n",
       "      <th>KM Travelled</th>\n",
       "      <th>Price Charged</th>\n",
       "      <th>Cost of Trip</th>\n",
       "      <th>Payment_Mode</th>\n",
       "      <th>Customer_ID</th>\n",
       "      <th>Gender</th>\n",
       "      <th>Age</th>\n",
       "      <th>Income (USD/Month)</th>\n",
       "    </tr>\n",
       "  </thead>\n",
       "  <tbody>\n",
       "    <tr>\n",
       "      <th>0</th>\n",
       "      <td>January</td>\n",
       "      <td>2016</td>\n",
       "      <td>Pink Cab</td>\n",
       "      <td>ATLANTA GA</td>\n",
       "      <td>814885.0</td>\n",
       "      <td>24701.0</td>\n",
       "      <td>30.450001</td>\n",
       "      <td>370.950012</td>\n",
       "      <td>313.635010</td>\n",
       "      <td>Card</td>\n",
       "      <td>29290</td>\n",
       "      <td>Male</td>\n",
       "      <td>28.0</td>\n",
       "      <td>10813.0</td>\n",
       "    </tr>\n",
       "    <tr>\n",
       "      <th>1</th>\n",
       "      <td>January</td>\n",
       "      <td>2016</td>\n",
       "      <td>Pink Cab</td>\n",
       "      <td>ATLANTA GA</td>\n",
       "      <td>814885.0</td>\n",
       "      <td>24701.0</td>\n",
       "      <td>28.620001</td>\n",
       "      <td>358.519989</td>\n",
       "      <td>334.854004</td>\n",
       "      <td>Card</td>\n",
       "      <td>27703</td>\n",
       "      <td>Male</td>\n",
       "      <td>27.0</td>\n",
       "      <td>9237.0</td>\n",
       "    </tr>\n",
       "  </tbody>\n",
       "</table>\n",
       "</div>"
      ],
      "text/plain": [
       "  Travel by Months Travel by Years   Company        City  Population    Users  \\\n",
       "0          January            2016  Pink Cab  ATLANTA GA    814885.0  24701.0   \n",
       "1          January            2016  Pink Cab  ATLANTA GA    814885.0  24701.0   \n",
       "\n",
       "   KM Travelled  Price Charged  Cost of Trip Payment_Mode  Customer_ID Gender  \\\n",
       "0     30.450001     370.950012    313.635010         Card        29290   Male   \n",
       "1     28.620001     358.519989    334.854004         Card        27703   Male   \n",
       "\n",
       "    Age  Income (USD/Month)  \n",
       "0  28.0             10813.0  \n",
       "1  27.0              9237.0  "
      ]
     },
     "execution_count": 227,
     "metadata": {},
     "output_type": "execute_result"
    }
   ],
   "source": [
    "df1.head(2)"
   ]
  },
  {
   "cell_type": "code",
   "execution_count": null,
   "id": "b7b55c72-931a-481b-949e-0704f9c38bac",
   "metadata": {},
   "outputs": [],
   "source": []
  },
  {
   "cell_type": "code",
   "execution_count": 228,
   "id": "74d9dd30-6ed0-44c5-8f29-14a25e03d052",
   "metadata": {},
   "outputs": [
    {
     "data": {
      "text/plain": [
       "Travel by Years  Travel by Months\n",
       "2016             December            13765\n",
       "                 November            13008\n",
       "                 October             12644\n",
       "                 September           10821\n",
       "                 August               9844\n",
       "                 July                 8247\n",
       "                 May                  7863\n",
       "                 June                 7325\n",
       "                 March                6594\n",
       "                 April                6230\n",
       "                 February             5881\n",
       "                 January              4017\n",
       "2017             December            16654\n",
       "                 October             15358\n",
       "                 November            14972\n",
       "                 September           12655\n",
       "                 August              11576\n",
       "                 July                 9834\n",
       "                 January              9050\n",
       "                 May                  8606\n",
       "                 June                 8108\n",
       "                 April                7981\n",
       "                 March                7220\n",
       "                 February             6499\n",
       "2018             December            16317\n",
       "                 November            14385\n",
       "                 October             13717\n",
       "                 September           12356\n",
       "                 January             11173\n",
       "                 August              10269\n",
       "                 July                 9717\n",
       "                 June                 7849\n",
       "                 May                  7836\n",
       "                 April                7610\n",
       "                 March                6886\n",
       "                 February             6012\n",
       "2019             January               513\n",
       "Name: Travel by Months, dtype: int64"
      ]
     },
     "execution_count": 228,
     "metadata": {},
     "output_type": "execute_result"
    }
   ],
   "source": [
    "df1.groupby('Travel by Years')['Travel by Months'].value_counts()"
   ]
  },
  {
   "cell_type": "code",
   "execution_count": null,
   "id": "e72334b2-cc08-4487-ad46-aac06947c0c1",
   "metadata": {},
   "outputs": [],
   "source": []
  },
  {
   "cell_type": "markdown",
   "id": "26d54053-44f7-4746-a38a-06d2c4f350db",
   "metadata": {},
   "source": [
    "**Let's drop year (2019) because it just cover the month of january..This makes us not to get a correct result when we do analaysis**\n",
    "\n"
   ]
  },
  {
   "cell_type": "code",
   "execution_count": 229,
   "id": "4b09d1b8-19f0-4fbe-8bc9-7e65f7e00679",
   "metadata": {},
   "outputs": [],
   "source": [
    "df1.drop(df1[df1['Travel by Years'] == '2019'].index, inplace=True)"
   ]
  },
  {
   "cell_type": "code",
   "execution_count": 230,
   "id": "b63c9f91-c21d-40a6-9d99-3f796a16428f",
   "metadata": {},
   "outputs": [
    {
     "data": {
      "text/plain": [
       "array(['2016', '2017', '2018', nan], dtype=object)"
      ]
     },
     "execution_count": 230,
     "metadata": {},
     "output_type": "execute_result"
    }
   ],
   "source": [
    "df1['Travel by Years'].unique()"
   ]
  },
  {
   "cell_type": "code",
   "execution_count": null,
   "id": "ee3f2a96-0396-4b3d-98b7-3329a0178c57",
   "metadata": {},
   "outputs": [],
   "source": []
  },
  {
   "cell_type": "code",
   "execution_count": 231,
   "id": "2f245165-9c38-4f5e-8c1e-d2a440294094",
   "metadata": {},
   "outputs": [
    {
     "data": {
      "text/plain": [
       "Travel by Months      80706\n",
       "Travel by Years       80706\n",
       "Company               80706\n",
       "City                  80706\n",
       "Population            80706\n",
       "Users                 80706\n",
       "KM Travelled          80706\n",
       "Price Charged         80706\n",
       "Cost of Trip          80706\n",
       "Payment_Mode          80706\n",
       "Customer_ID               0\n",
       "Gender                80706\n",
       "Age                   80706\n",
       "Income (USD/Month)    80706\n",
       "dtype: int64"
      ]
     },
     "execution_count": 231,
     "metadata": {},
     "output_type": "execute_result"
    }
   ],
   "source": [
    "df1.isnull().sum()"
   ]
  },
  {
   "cell_type": "code",
   "execution_count": 232,
   "id": "e5255390-3c2c-48a8-945d-01427ec7bf2a",
   "metadata": {},
   "outputs": [],
   "source": [
    "#Let's fill null values in some columns which will affect our analysis\n",
    "df1['Age'].fillna(df1['Age'].median(), inplace=True)\n",
    "df1['Company'].fillna(df1['Company'].mode()[0], inplace=True)\n",
    "df1['Population'].fillna(df1['Population'].median(), inplace=True)\n",
    "df1['Users'].fillna(df1['Users'].median(), inplace=True)\n",
    "df1['KM Travelled'].fillna(df1['KM Travelled'].median(), inplace=True)\n",
    "df1['Price Charged'].fillna(df1['Price Charged'].median(), inplace=True)\n",
    "df1['Cost of Trip'].fillna(df1['Cost of Trip'].median(), inplace=True)\n",
    "df1['Income (USD/Month)'].fillna(df1['Income (USD/Month)'].median(), inplace=True)"
   ]
  },
  {
   "cell_type": "code",
   "execution_count": 233,
   "id": "5fcfc4b8-32b3-4772-920f-c98fb938be9a",
   "metadata": {},
   "outputs": [
    {
     "data": {
      "text/plain": [
       "Travel by Months      80706\n",
       "Travel by Years       80706\n",
       "Company                   0\n",
       "City                  80706\n",
       "Population                0\n",
       "Users                     0\n",
       "KM Travelled              0\n",
       "Price Charged             0\n",
       "Cost of Trip              0\n",
       "Payment_Mode          80706\n",
       "Customer_ID               0\n",
       "Gender                80706\n",
       "Age                       0\n",
       "Income (USD/Month)        0\n",
       "dtype: int64"
      ]
     },
     "execution_count": 233,
     "metadata": {},
     "output_type": "execute_result"
    }
   ],
   "source": [
    "df1.isnull().sum()"
   ]
  },
  {
   "cell_type": "code",
   "execution_count": null,
   "id": "b3e819a9-adc5-4199-85ef-f4b56d215c7c",
   "metadata": {},
   "outputs": [],
   "source": []
  },
  {
   "cell_type": "code",
   "execution_count": 234,
   "id": "58a84f9a-8f2d-4f7a-a2ea-abc81cd01b2c",
   "metadata": {},
   "outputs": [
    {
     "data": {
      "text/plain": [
       "(439585, 14)"
      ]
     },
     "execution_count": 234,
     "metadata": {},
     "output_type": "execute_result"
    }
   ],
   "source": [
    "df1.shape"
   ]
  },
  {
   "cell_type": "code",
   "execution_count": null,
   "id": "424dc5c1-0727-48c9-83d8-7364d12b7c09",
   "metadata": {},
   "outputs": [],
   "source": []
  },
  {
   "cell_type": "code",
   "execution_count": 235,
   "id": "8d9ae749-bc5e-4d89-ae94-0ba7986f0a2e",
   "metadata": {},
   "outputs": [
    {
     "name": "stdout",
     "output_type": "stream",
     "text": [
      "<class 'pandas.core.frame.DataFrame'>\n",
      "Int64Index: 439585 entries, 0 to 440097\n",
      "Data columns (total 14 columns):\n",
      " #   Column              Non-Null Count   Dtype  \n",
      "---  ------              --------------   -----  \n",
      " 0   Travel by Months    358879 non-null  object \n",
      " 1   Travel by Years     358879 non-null  object \n",
      " 2   Company             439585 non-null  object \n",
      " 3   City                358879 non-null  object \n",
      " 4   Population          439585 non-null  float64\n",
      " 5   Users               439585 non-null  float64\n",
      " 6   KM Travelled        439585 non-null  float64\n",
      " 7   Price Charged       439585 non-null  float64\n",
      " 8   Cost of Trip        439585 non-null  float64\n",
      " 9   Payment_Mode        358879 non-null  object \n",
      " 10  Customer_ID         439585 non-null  int64  \n",
      " 11  Gender              358879 non-null  object \n",
      " 12  Age                 439585 non-null  float64\n",
      " 13  Income (USD/Month)  439585 non-null  float64\n",
      "dtypes: float64(7), int64(1), object(6)\n",
      "memory usage: 50.3+ MB\n"
     ]
    }
   ],
   "source": [
    "df1.info()"
   ]
  },
  {
   "cell_type": "code",
   "execution_count": null,
   "id": "b2416a43-4c65-4629-b47a-3fca41bceab9",
   "metadata": {},
   "outputs": [],
   "source": []
  },
  {
   "cell_type": "code",
   "execution_count": 236,
   "id": "7723ff36-5066-4fa9-8261-7f4132a985bb",
   "metadata": {},
   "outputs": [
    {
     "data": {
      "text/html": [
       "<div>\n",
       "<style scoped>\n",
       "    .dataframe tbody tr th:only-of-type {\n",
       "        vertical-align: middle;\n",
       "    }\n",
       "\n",
       "    .dataframe tbody tr th {\n",
       "        vertical-align: top;\n",
       "    }\n",
       "\n",
       "    .dataframe thead th {\n",
       "        text-align: right;\n",
       "    }\n",
       "</style>\n",
       "<table border=\"1\" class=\"dataframe\">\n",
       "  <thead>\n",
       "    <tr style=\"text-align: right;\">\n",
       "      <th></th>\n",
       "      <th>Population</th>\n",
       "      <th>Users</th>\n",
       "      <th>KM Travelled</th>\n",
       "      <th>Price Charged</th>\n",
       "      <th>Cost of Trip</th>\n",
       "      <th>Customer_ID</th>\n",
       "      <th>Age</th>\n",
       "      <th>Income (USD/Month)</th>\n",
       "    </tr>\n",
       "  </thead>\n",
       "  <tbody>\n",
       "    <tr>\n",
       "      <th>count</th>\n",
       "      <td>4.395850e+05</td>\n",
       "      <td>439585.000000</td>\n",
       "      <td>439585.000000</td>\n",
       "      <td>439585.000000</td>\n",
       "      <td>439585.000000</td>\n",
       "      <td>439585.000000</td>\n",
       "      <td>439585.000000</td>\n",
       "      <td>439585.000000</td>\n",
       "    </tr>\n",
       "    <tr>\n",
       "      <th>mean</th>\n",
       "      <td>2.849996e+06</td>\n",
       "      <td>155755.024823</td>\n",
       "      <td>22.543734</td>\n",
       "      <td>416.694653</td>\n",
       "      <td>285.505366</td>\n",
       "      <td>23617.602457</td>\n",
       "      <td>34.907379</td>\n",
       "      <td>14982.341693</td>\n",
       "    </tr>\n",
       "    <tr>\n",
       "      <th>std</th>\n",
       "      <td>3.054017e+06</td>\n",
       "      <td>91287.707771</td>\n",
       "      <td>11.053277</td>\n",
       "      <td>248.384522</td>\n",
       "      <td>142.755836</td>\n",
       "      <td>21194.835235</td>\n",
       "      <td>11.415470</td>\n",
       "      <td>7202.413285</td>\n",
       "    </tr>\n",
       "    <tr>\n",
       "      <th>min</th>\n",
       "      <td>2.489680e+05</td>\n",
       "      <td>3643.000000</td>\n",
       "      <td>1.900000</td>\n",
       "      <td>15.600000</td>\n",
       "      <td>19.000000</td>\n",
       "      <td>1.000000</td>\n",
       "      <td>18.000000</td>\n",
       "      <td>2000.000000</td>\n",
       "    </tr>\n",
       "    <tr>\n",
       "      <th>25%</th>\n",
       "      <td>9.429080e+05</td>\n",
       "      <td>80021.000000</td>\n",
       "      <td>14.400000</td>\n",
       "      <td>246.690002</td>\n",
       "      <td>180.503998</td>\n",
       "      <td>3529.000000</td>\n",
       "      <td>27.000000</td>\n",
       "      <td>9810.000000</td>\n",
       "    </tr>\n",
       "    <tr>\n",
       "      <th>50%</th>\n",
       "      <td>1.595037e+06</td>\n",
       "      <td>144132.000000</td>\n",
       "      <td>22.440001</td>\n",
       "      <td>386.399994</td>\n",
       "      <td>282.480011</td>\n",
       "      <td>15150.000000</td>\n",
       "      <td>33.000000</td>\n",
       "      <td>14685.000000</td>\n",
       "    </tr>\n",
       "    <tr>\n",
       "      <th>75%</th>\n",
       "      <td>1.955130e+06</td>\n",
       "      <td>164468.000000</td>\n",
       "      <td>30.520000</td>\n",
       "      <td>533.630005</td>\n",
       "      <td>383.670013</td>\n",
       "      <td>43884.000000</td>\n",
       "      <td>39.000000</td>\n",
       "      <td>19594.000000</td>\n",
       "    </tr>\n",
       "    <tr>\n",
       "      <th>max</th>\n",
       "      <td>8.405837e+06</td>\n",
       "      <td>302149.000000</td>\n",
       "      <td>48.000000</td>\n",
       "      <td>2048.030029</td>\n",
       "      <td>691.200012</td>\n",
       "      <td>60000.000000</td>\n",
       "      <td>65.000000</td>\n",
       "      <td>35000.000000</td>\n",
       "    </tr>\n",
       "  </tbody>\n",
       "</table>\n",
       "</div>"
      ],
      "text/plain": [
       "         Population          Users   KM Travelled  Price Charged  \\\n",
       "count  4.395850e+05  439585.000000  439585.000000  439585.000000   \n",
       "mean   2.849996e+06  155755.024823      22.543734     416.694653   \n",
       "std    3.054017e+06   91287.707771      11.053277     248.384522   \n",
       "min    2.489680e+05    3643.000000       1.900000      15.600000   \n",
       "25%    9.429080e+05   80021.000000      14.400000     246.690002   \n",
       "50%    1.595037e+06  144132.000000      22.440001     386.399994   \n",
       "75%    1.955130e+06  164468.000000      30.520000     533.630005   \n",
       "max    8.405837e+06  302149.000000      48.000000    2048.030029   \n",
       "\n",
       "        Cost of Trip    Customer_ID            Age  Income (USD/Month)  \n",
       "count  439585.000000  439585.000000  439585.000000       439585.000000  \n",
       "mean      285.505366   23617.602457      34.907379        14982.341693  \n",
       "std       142.755836   21194.835235      11.415470         7202.413285  \n",
       "min        19.000000       1.000000      18.000000         2000.000000  \n",
       "25%       180.503998    3529.000000      27.000000         9810.000000  \n",
       "50%       282.480011   15150.000000      33.000000        14685.000000  \n",
       "75%       383.670013   43884.000000      39.000000        19594.000000  \n",
       "max       691.200012   60000.000000      65.000000        35000.000000  "
      ]
     },
     "execution_count": 236,
     "metadata": {},
     "output_type": "execute_result"
    }
   ],
   "source": [
    "df1.describe()"
   ]
  },
  {
   "cell_type": "code",
   "execution_count": null,
   "id": "8dcbd666-d591-4c62-bd4f-1fd40e9ef64e",
   "metadata": {},
   "outputs": [],
   "source": []
  },
  {
   "cell_type": "code",
   "execution_count": null,
   "id": "f8ac047f-46d2-4387-9bdd-2b23041d5dd3",
   "metadata": {},
   "outputs": [],
   "source": []
  },
  {
   "cell_type": "markdown",
   "id": "8c4555fa-ce52-42c8-ab3b-ade08f7e7eda",
   "metadata": {},
   "source": [
    "**Let's set up some hypothesis to show some information about companies**"
   ]
  },
  {
   "cell_type": "code",
   "execution_count": null,
   "id": "e90e2b52-5642-4d47-b61b-4b44e5bcdefe",
   "metadata": {},
   "outputs": [],
   "source": []
  },
  {
   "cell_type": "markdown",
   "id": "bd4cf423-c8ff-40da-ad41-f44820171651",
   "metadata": {},
   "source": [
    "**1.Pricing strategies of Pink Cab is higher than Yellow Cab**"
   ]
  },
  {
   "cell_type": "code",
   "execution_count": 237,
   "id": "312b366f-88f0-4c50-b291-a1219d4318b5",
   "metadata": {},
   "outputs": [
    {
     "data": {
      "text/plain": [
       "310.7738544386425"
      ]
     },
     "execution_count": 237,
     "metadata": {},
     "output_type": "execute_result"
    }
   ],
   "source": [
    "df1[df1['Company'] == 'Pink Cab']['Price Charged'].mean()"
   ]
  },
  {
   "cell_type": "code",
   "execution_count": 238,
   "id": "36bcf062-437c-40f3-9461-450978931918",
   "metadata": {},
   "outputs": [
    {
     "data": {
      "text/plain": [
       "248.13729399877693"
      ]
     },
     "execution_count": 238,
     "metadata": {},
     "output_type": "execute_result"
    }
   ],
   "source": [
    "df1[df1['Company'] == 'Pink Cab']['Cost of Trip'].mean()"
   ]
  },
  {
   "cell_type": "code",
   "execution_count": null,
   "id": "833be079-3f32-49f7-8c53-672ddef5a8c5",
   "metadata": {},
   "outputs": [],
   "source": []
  },
  {
   "cell_type": "code",
   "execution_count": 239,
   "id": "2deb4a17-8d5d-4ef0-9d39-ff59740a4297",
   "metadata": {},
   "outputs": [
    {
     "data": {
      "text/plain": [
       "441.936581614404"
      ]
     },
     "execution_count": 239,
     "metadata": {},
     "output_type": "execute_result"
    }
   ],
   "source": [
    "df1[df1['Company'] == 'Yellow Cab']['Price Charged'].mean()"
   ]
  },
  {
   "cell_type": "code",
   "execution_count": 240,
   "id": "9b5d63dd-82cd-4bc2-b76c-ad2e32b74e11",
   "metadata": {},
   "outputs": [
    {
     "data": {
      "text/plain": [
       "294.4105309859304"
      ]
     },
     "execution_count": 240,
     "metadata": {},
     "output_type": "execute_result"
    }
   ],
   "source": [
    "df1[df1['Company'] == 'Yellow Cab']['Cost of Trip'].mean()"
   ]
  },
  {
   "cell_type": "code",
   "execution_count": null,
   "id": "c6ba9e76-a37d-4c23-89ea-87c749e05cf1",
   "metadata": {},
   "outputs": [],
   "source": []
  },
  {
   "cell_type": "code",
   "execution_count": 241,
   "id": "d0e3d628-621d-40b4-bd99-06522b35b439",
   "metadata": {},
   "outputs": [
    {
     "data": {
      "image/png": "[encoded data removed]",
      "text/plain": [
       "<Figure size 640x480 with 1 Axes>"
      ]
     },
     "metadata": {},
     "output_type": "display_data"
    }
   ],
   "source": [
    "pink_mean_price = df1[df1['Company'] == 'Pink Cab']['Price Charged'].mean()\n",
    "pink_mean_cost = df1[df1['Company'] == 'Pink Cab']['Cost of Trip'].mean()\n",
    "yellow_mean_price = df1[df1['Company'] == 'Yellow Cab']['Price Charged'].mean()\n",
    "yellow_mean_cost = df1[df1['Company'] == 'Yellow Cab']['Cost of Trip'].mean()\n",
    "\n",
    "fig, ax = plt.subplots()\n",
    "ax.bar(['Pink Cab', 'Yellow Cab'], [pink_mean_price, yellow_mean_price], label='Price Charged')\n",
    "ax.bar(['Pink Cab', 'Yellow Cab'], [pink_mean_cost, yellow_mean_cost], label='Cost of Trip')\n",
    "ax.set_xlabel('Company')\n",
    "ax.set_ylabel('Amount (USD)')\n",
    "ax.set_title('Mean Price Charged and Cost of Trip by Company')\n",
    "ax.legend()\n",
    "plt.show()"
   ]
  },
  {
   "cell_type": "markdown",
   "id": "4ce758f6-89df-4832-ae70-0ada9cd5c217",
   "metadata": {},
   "source": [
    "**Pink Cab:\n",
    "On average, Pink Cab charges approximately 310.77 for a trip.\n",
    "The cost of providing a trip is lower than the average price charged, at approximately 248.14.\n",
    "This may suggest that Pink Cab has a profitable business model with a reasonable profit margin.**"
   ]
  },
  {
   "cell_type": "markdown",
   "id": "969eb1ef-c36f-4a5a-9a98-19dbc178fa46",
   "metadata": {},
   "source": [
    "**Yellow Cab:\n",
    "On average, Yellow Cab charges approximately 458.28 for a trip.\n",
    "The cost of providing a trip  is lower than the average price charged, at approximately 297.92.\n",
    "This may suggest that Yellow Cab has a relatively higher profit margin than Pink Cab.**"
   ]
  },
  {
   "cell_type": "code",
   "execution_count": null,
   "id": "a1cdc430-6353-40a9-99e9-4e0a982f6874",
   "metadata": {},
   "outputs": [],
   "source": []
  },
  {
   "cell_type": "code",
   "execution_count": null,
   "id": "de0160b0-9016-4805-8ebe-a317a817839c",
   "metadata": {},
   "outputs": [],
   "source": []
  },
  {
   "cell_type": "markdown",
   "id": "96340086-7c6e-4a1c-a455-3ec3259715cf",
   "metadata": {},
   "source": [
    "**2.Card payment models are more popular**"
   ]
  },
  {
   "cell_type": "code",
   "execution_count": 242,
   "id": "3d9a727c-f11e-4b87-882f-b887b9034afa",
   "metadata": {},
   "outputs": [
    {
     "name": "stdout",
     "output_type": "stream",
     "text": [
      "Card    215187\n",
      "Cash    143692\n",
      "Name: Payment_Mode, dtype: int64\n"
     ]
    }
   ],
   "source": [
    "payment_mode_counts = df1['Payment_Mode'].value_counts()\n",
    "print(payment_mode_counts)"
   ]
  },
  {
   "cell_type": "code",
   "execution_count": 243,
   "id": "be0d294e-f030-4763-af82-64a799ba5f37",
   "metadata": {},
   "outputs": [
    {
     "data": {
      "image/png": "[encoded data removed]",
      "text/plain": [
       "<Figure size 640x480 with 1 Axes>"
      ]
     },
     "metadata": {},
     "output_type": "display_data"
    }
   ],
   "source": [
    "labels = ['Card', 'Cash']\n",
    "values = [215187, 143692]\n",
    "\n",
    "plt.bar(labels, values)\n",
    "\n",
    "plt.title('Payment Mode Popularity')\n",
    "plt.xlabel('Payment Mode')\n",
    "plt.ylabel('Number of Trips')\n",
    "plt.show()"
   ]
  },
  {
   "cell_type": "markdown",
   "id": "f2526e93-a78d-46f7-96e9-0ba686ac786b",
   "metadata": {},
   "source": [
    "**It seems that the Card payment model is more popular, as it has a higher count than the Cash payment model.**"
   ]
  },
  {
   "cell_type": "code",
   "execution_count": null,
   "id": "3c626bab-6113-4cf9-86b5-075587c1a08f",
   "metadata": {},
   "outputs": [],
   "source": []
  },
  {
   "cell_type": "markdown",
   "id": "d460676f-d133-4b84-951c-3d88586e8312",
   "metadata": {},
   "source": [
    "**3.Card payment mode is higher than cash payment model for each company**"
   ]
  },
  {
   "cell_type": "code",
   "execution_count": 244,
   "id": "d11ff331-785e-464b-b265-81a8f15c9423",
   "metadata": {},
   "outputs": [
    {
     "data": {
      "text/plain": [
       "Company     Payment_Mode\n",
       "Pink Cab    Card             50647\n",
       "            Cash             33950\n",
       "Yellow Cab  Card            164540\n",
       "            Cash            109742\n",
       "Name: Payment_Mode, dtype: int64"
      ]
     },
     "execution_count": 244,
     "metadata": {},
     "output_type": "execute_result"
    }
   ],
   "source": [
    "df1.groupby('Company')['Payment_Mode'].value_counts()"
   ]
  },
  {
   "cell_type": "code",
   "execution_count": 245,
   "id": "ebf6a59c-d5fd-43a3-bccd-2a32333c32c8",
   "metadata": {},
   "outputs": [
    {
     "name": "stdout",
     "output_type": "stream",
     "text": [
      "Company     Payment_Mode\n",
      "Pink Cab    Card            59.868553\n",
      "            Cash            40.131447\n",
      "Yellow Cab  Card            59.989354\n",
      "            Cash            40.010646\n",
      "Name: Payment_Mode, dtype: float64\n"
     ]
    }
   ],
   "source": [
    "# calculate the total number of trips for each company\n",
    "total_trips_by_company = df1.groupby('Company')['Payment_Mode'].count()\n",
    "\n",
    "# calculate the frequency of each payment mode for each company\n",
    "payment_mode_freq_by_company = df1.groupby(['Company', 'Payment_Mode'])['Payment_Mode'].count()\n",
    "\n",
    "# calculate the percentage of trips made with each payment mode for each company\n",
    "payment_mode_percentage_by_company = payment_mode_freq_by_company / total_trips_by_company * 100\n",
    "\n",
    "# print the results\n",
    "print(payment_mode_percentage_by_company)"
   ]
  },
  {
   "cell_type": "code",
   "execution_count": 246,
   "id": "14b80c4b-1f18-4d1d-b6f3-21b0791c0a02",
   "metadata": {},
   "outputs": [
    {
     "data": {
      "image/png": "[encoded data removed]",
      "text/plain": [
       "<Figure size 640x480 with 1 Axes>"
      ]
     },
     "metadata": {},
     "output_type": "display_data"
    }
   ],
   "source": [
    "payment_mode_percentage_by_company.unstack().plot(kind='bar', stacked=True)\n",
    "\n",
    "plt.title('Percentage of Trips by Payment Mode and Company')\n",
    "plt.xlabel('Company')\n",
    "plt.ylabel('Percentage of Trips')\n",
    "\n",
    "plt.show()"
   ]
  },
  {
   "cell_type": "markdown",
   "id": "bf89c765-4438-4a63-9ce8-5d7811f15f7d",
   "metadata": {},
   "source": [
    "**It seems that both Pink Cab and Yellow Cab have a similar distribution of payment modes, with slightly more customers paying with Card than Cash.**"
   ]
  },
  {
   "cell_type": "code",
   "execution_count": null,
   "id": "ef05ac16-47dc-4bd7-9c09-0573bb7ce308",
   "metadata": {},
   "outputs": [],
   "source": []
  },
  {
   "cell_type": "markdown",
   "id": "c4c9a2d3-b7c6-4155-89fa-9104c3ceedc1",
   "metadata": {},
   "source": [
    "**4.The cost of a trip varies according to the city in which it is made.**"
   ]
  },
  {
   "cell_type": "code",
   "execution_count": 247,
   "id": "d5c7bc76-bd2e-46ea-9c7b-5e12b66bbea1",
   "metadata": {},
   "outputs": [
    {
     "data": {
      "text/plain": [
       "City\n",
       "ATLANTA GA        394.510533\n",
       "AUSTIN TX         383.575594\n",
       "BOSTON MA         348.887449\n",
       "CHICAGO IL        350.458856\n",
       "DALLAS TX         447.861727\n",
       "DENVER CO         382.281461\n",
       "LOS ANGELES CA    370.484666\n",
       "MIAMI FL          399.880713\n",
       "NASHVILLE TN      318.457147\n",
       "NEW YORK NY       570.380374\n",
       "ORANGE COUNTY     390.585170\n",
       "PHOENIX AZ        366.632508\n",
       "PITTSBURGH PA     337.434393\n",
       "SACRAMENTO CA     321.646244\n",
       "SAN DIEGO CA      348.283468\n",
       "SEATTLE WA        356.879091\n",
       "SILICON VALLEY    432.391875\n",
       "TUCSON AZ         348.490156\n",
       "WASHINGTON DC     374.233305\n",
       "Name: Price Charged, dtype: float64"
      ]
     },
     "execution_count": 247,
     "metadata": {},
     "output_type": "execute_result"
    }
   ],
   "source": [
    "df1.groupby('City')['Price Charged'].mean()"
   ]
  },
  {
   "cell_type": "code",
   "execution_count": 248,
   "id": "fe0b62bd-fb74-4ff4-b5f4-98c165b00fd4",
   "metadata": {},
   "outputs": [
    {
     "data": {
      "image/png": "[encoded data removed]",
      "text/plain": [
       "<Figure size 640x480 with 1 Axes>"
      ]
     },
     "metadata": {},
     "output_type": "display_data"
    }
   ],
   "source": [
    "# Group the dataframe by City and calculate the mean price charged\n",
    "mean_price_by_city = df1.groupby('City')['Price Charged'].mean()\n",
    "\n",
    "# Plot the mean price for each city as a bar chart\n",
    "mean_price_by_city.plot(kind='bar')\n",
    "\n",
    "# Set the title, x-label, and y-label\n",
    "plt.title('Mean Price Charged by City')\n",
    "plt.xlabel('City')\n",
    "plt.ylabel('Mean Price Charged')\n",
    "\n",
    "# Display the plot\n",
    "plt.show()\n"
   ]
  },
  {
   "cell_type": "markdown",
   "id": "64634310-7504-4e2f-b53f-c505e1abc614",
   "metadata": {},
   "source": [
    "**It appears that the cost of a trip varies according to the city in which it is made.**"
   ]
  },
  {
   "cell_type": "code",
   "execution_count": null,
   "id": "6b1d2d21-b260-468c-bcd2-0bba4ed0aa69",
   "metadata": {},
   "outputs": [],
   "source": []
  },
  {
   "cell_type": "markdown",
   "id": "218b31ec-13aa-478a-a80e-47279d7d0b8e",
   "metadata": {},
   "source": [
    "**5.There is an annual increase in the pricing of taxi companies according to the years.**"
   ]
  },
  {
   "cell_type": "code",
   "execution_count": 249,
   "id": "60b3bae5-5bf1-44a3-a4cc-830c530550a8",
   "metadata": {},
   "outputs": [
    {
     "data": {
      "text/plain": [
       "Travel by Years  Company   \n",
       "2016             Pink Cab      314.683129\n",
       "                 Yellow Cab    467.923678\n",
       "2017             Pink Cab      316.064125\n",
       "                 Yellow Cab    466.806063\n",
       "2018             Pink Cab      302.035164\n",
       "                 Yellow Cab    441.137294\n",
       "Name: Price Charged, dtype: float64"
      ]
     },
     "execution_count": 249,
     "metadata": {},
     "output_type": "execute_result"
    }
   ],
   "source": [
    "df1.groupby(['Travel by Years', 'Company'])['Price Charged'].mean()"
   ]
  },
  {
   "cell_type": "code",
   "execution_count": 250,
   "id": "09885a4d-c13b-49c7-acb2-3f4a775e180d",
   "metadata": {},
   "outputs": [
    {
     "data": {
      "image/png": "[encoded data removed]",
      "text/plain": [
       "<Figure size 640x480 with 1 Axes>"
      ]
     },
     "metadata": {},
     "output_type": "display_data"
    }
   ],
   "source": [
    "# create a pivot table with the years as index and companies as columns\n",
    "pivot_table = df1.pivot_table(index='Travel by Years', columns='Company', values='Price Charged')\n",
    "\n",
    "# plot the pivot table as a line chart\n",
    "pivot_table.plot(kind='line')\n",
    "\n",
    "plt.xlabel('Year')\n",
    "plt.ylabel('Price Charged')\n",
    "\n",
    "plt.title('Annual Increase in Pricing of Taxi Companies')\n",
    "plt.xticks(rotation=90)\n",
    "plt.show()"
   ]
  },
  {
   "cell_type": "markdown",
   "id": "621a72a6-1348-43f5-a882-77a4a88ebb4d",
   "metadata": {},
   "source": [
    "**Both Pink Cab and Yellow Cab show a decrease in their average price charged per trip over the years.**"
   ]
  },
  {
   "cell_type": "code",
   "execution_count": null,
   "id": "777affdd-ed7f-4bca-ba73-1afd02ce4410",
   "metadata": {},
   "outputs": [],
   "source": []
  },
  {
   "cell_type": "markdown",
   "id": "b7ebea6f-bcef-449f-83bc-30259e35e149",
   "metadata": {},
   "source": [
    "**6.Companies have different pricing strategies for each quarter of the year.**"
   ]
  },
  {
   "cell_type": "code",
   "execution_count": 251,
   "id": "7ed24d07-5c83-4e9d-b825-acdcf644de25",
   "metadata": {},
   "outputs": [
    {
     "data": {
      "text/plain": [
       "array(['January', 'February', 'March', 'April', 'May', 'June', 'July',\n",
       "       'August', 'September', 'October', 'November', 'December', nan],\n",
       "      dtype=object)"
      ]
     },
     "execution_count": 251,
     "metadata": {},
     "output_type": "execute_result"
    }
   ],
   "source": [
    "df1['Travel by Months'].unique()"
   ]
  },
  {
   "cell_type": "code",
   "execution_count": 252,
   "id": "0e2e288e-cf7d-47cc-a059-9a28b42c45f6",
   "metadata": {},
   "outputs": [],
   "source": [
    "First_Quarter = df1[df1['Travel by Months'].isin(['January', 'February', 'March'])]\n",
    "Second_Quarter = df1[df1['Travel by Months'].isin(['April', 'May', 'June'])]\n",
    "Third_Quarter = df1[df1['Travel by Months'].isin(['July', 'August', 'September'])]\n",
    "Fourth_Quarter = df1[df1['Travel by Months'].isin(['October', 'November', 'December'])]"
   ]
  },
  {
   "cell_type": "code",
   "execution_count": null,
   "id": "ed051fd1-ee06-4643-b85d-311713e2a900",
   "metadata": {},
   "outputs": [],
   "source": []
  },
  {
   "cell_type": "code",
   "execution_count": 253,
   "id": "24266e8e-4ae4-4deb-b402-2c5b067560ad",
   "metadata": {},
   "outputs": [
    {
     "data": {
      "text/plain": [
       "Company\n",
       "Pink Cab      324.819359\n",
       "Yellow Cab    486.107105\n",
       "Name: Price Charged, dtype: float64"
      ]
     },
     "execution_count": 253,
     "metadata": {},
     "output_type": "execute_result"
    }
   ],
   "source": [
    "First_Quarter.groupby('Company')['Price Charged'].mean()"
   ]
  },
  {
   "cell_type": "code",
   "execution_count": null,
   "id": "9e3e8a48-f774-42b1-bf96-b1fa2189c2af",
   "metadata": {},
   "outputs": [],
   "source": []
  },
  {
   "cell_type": "code",
   "execution_count": 254,
   "id": "90268e1a-1bcb-4232-971d-47c72e825892",
   "metadata": {},
   "outputs": [
    {
     "data": {
      "text/plain": [
       "Company\n",
       "Pink Cab      293.199166\n",
       "Yellow Cab    491.855183\n",
       "Name: Price Charged, dtype: float64"
      ]
     },
     "execution_count": 254,
     "metadata": {},
     "output_type": "execute_result"
    }
   ],
   "source": [
    "Second_Quarter.groupby('Company')['Price Charged'].mean()"
   ]
  },
  {
   "cell_type": "code",
   "execution_count": null,
   "id": "ab67bde7-a3a8-47d2-b32b-cc47e4906eef",
   "metadata": {},
   "outputs": [],
   "source": []
  },
  {
   "cell_type": "code",
   "execution_count": 255,
   "id": "e01976c5-a198-4946-835d-189c28480806",
   "metadata": {},
   "outputs": [
    {
     "data": {
      "text/plain": [
       "Company\n",
       "Pink Cab      296.297357\n",
       "Yellow Cab    434.561171\n",
       "Name: Price Charged, dtype: float64"
      ]
     },
     "execution_count": 255,
     "metadata": {},
     "output_type": "execute_result"
    }
   ],
   "source": [
    "Third_Quarter.groupby('Company')['Price Charged'].mean()"
   ]
  },
  {
   "cell_type": "code",
   "execution_count": null,
   "id": "929c3cef-2606-4b97-ab8f-5e0029362b97",
   "metadata": {},
   "outputs": [],
   "source": []
  },
  {
   "cell_type": "code",
   "execution_count": 256,
   "id": "fc66fcc7-46d7-4013-831b-f539274eaa92",
   "metadata": {},
   "outputs": [
    {
     "data": {
      "text/plain": [
       "Company\n",
       "Pink Cab      323.480436\n",
       "Yellow Cab    442.413437\n",
       "Name: Price Charged, dtype: float64"
      ]
     },
     "execution_count": 256,
     "metadata": {},
     "output_type": "execute_result"
    }
   ],
   "source": [
    "Fourth_Quarter.groupby('Company')['Price Charged'].mean()"
   ]
  },
  {
   "cell_type": "code",
   "execution_count": null,
   "id": "bfdcd8c4-82f8-4ce4-9f6b-b43acd59671d",
   "metadata": {},
   "outputs": [],
   "source": []
  },
  {
   "cell_type": "code",
   "execution_count": 257,
   "id": "29618fb1-d5f5-4535-89f1-7574449fc19c",
   "metadata": {},
   "outputs": [
    {
     "data": {
      "image/png": "[encoded data removed]",
      "text/plain": [
       "<Figure size 640x480 with 1 Axes>"
      ]
     },
     "metadata": {},
     "output_type": "display_data"
    },
    {
     "data": {
      "image/png": "[encoded data removed]",
      "text/plain": [
       "<Figure size 640x480 with 1 Axes>"
      ]
     },
     "metadata": {},
     "output_type": "display_data"
    },
    {
     "data": {
      "image/png": "[encoded data removed]",
      "text/plain": [
       "<Figure size 640x480 with 1 Axes>"
      ]
     },
     "metadata": {},
     "output_type": "display_data"
    },
    {
     "data": {
      "image/png": "[encoded data removed]",
      "text/plain": [
       "<Figure size 640x480 with 1 Axes>"
      ]
     },
     "metadata": {},
     "output_type": "display_data"
    }
   ],
   "source": [
    "# Define the data for each quarter\n",
    "q1_data = [324.819359, 486.107105]\n",
    "q2_data = [293.199166, 491.855183]\n",
    "q3_data = [296.297357, 434.561171]\n",
    "q4_data = [323.480436, 442.413437]\n",
    "\n",
    "# Define the x-axis labels\n",
    "x_labels = ['Pink Cab', 'Yellow Cab']\n",
    "\n",
    "# Create a bar plot for each quarter\n",
    "plt.bar(x_labels, q1_data)\n",
    "plt.title('Pricing Strategies - First Quarter')\n",
    "plt.xlabel('Company')\n",
    "plt.ylabel('Price Charged')\n",
    "plt.show()\n",
    "\n",
    "plt.bar(x_labels, q2_data)\n",
    "plt.title('Pricing Strategies - Second Quarter')\n",
    "plt.xlabel('Company')\n",
    "plt.ylabel('Price Charged')\n",
    "plt.show()\n",
    "\n",
    "plt.bar(x_labels, q3_data)\n",
    "plt.title('Pricing Strategies - Third Quarter')\n",
    "plt.xlabel('Company')\n",
    "plt.ylabel('Price Charged')\n",
    "plt.show()\n",
    "\n",
    "plt.bar(x_labels, q4_data)\n",
    "plt.title('Pricing Strategies - Fourth Quarter')\n",
    "plt.xlabel('Company')\n",
    "plt.ylabel('Price Charged')\n",
    "plt.show()"
   ]
  },
  {
   "cell_type": "markdown",
   "id": "4f5a551e-e448-4ad5-8dad-59d1760464c5",
   "metadata": {},
   "source": [
    "**It appears that the pricing strategies of the companies vary by quarter of the year. Yellow Cab generally has a higher average price charged compared to Pink Cab in each quarter. The average price charged by both Pink Cab and Yellow Cab is lowest in the second quarter of the year and highest in the fourth quarter.**"
   ]
  },
  {
   "cell_type": "code",
   "execution_count": null,
   "id": "e3cbd63e-58ec-4979-9303-5e280775d8f6",
   "metadata": {},
   "outputs": [],
   "source": []
  },
  {
   "cell_type": "markdown",
   "id": "b368289b-2f6b-44b9-a7c4-7490f7c896dc",
   "metadata": {},
   "source": [
    "**Yellow Cab has more customers than Pink Cab over the years**"
   ]
  },
  {
   "cell_type": "code",
   "execution_count": 258,
   "id": "f68469cd-3b97-49e6-85c8-342aee7a59f7",
   "metadata": {},
   "outputs": [
    {
     "data": {
      "text/plain": [
       "Travel by Years  Company   \n",
       "2016             Pink Cab      24840\n",
       "                 Yellow Cab    81399\n",
       "2017             Pink Cab      30301\n",
       "                 Yellow Cab    98212\n",
       "2018             Pink Cab      29456\n",
       "                 Yellow Cab    94671\n",
       "Name: Customer_ID, dtype: int64"
      ]
     },
     "execution_count": 258,
     "metadata": {},
     "output_type": "execute_result"
    }
   ],
   "source": [
    "df1.groupby(['Travel by Years','Company'])['Customer_ID'].size()"
   ]
  },
  {
   "cell_type": "markdown",
   "id": "3ba01c07-3b09-4c78-a2d1-b0e567240121",
   "metadata": {},
   "source": [
    "**We clearly see that Yellow Cab has at least 3 times more customers than Pink Cab between 2016 and 2018**"
   ]
  },
  {
   "cell_type": "code",
   "execution_count": null,
   "id": "f781166a-22c2-43c1-be11-3efdced3a2e1",
   "metadata": {},
   "outputs": [],
   "source": []
  },
  {
   "cell_type": "markdown",
   "id": "22659c04-486a-408f-9e0c-a9f75dba383a",
   "metadata": {},
   "source": [
    "**Areas to investigate:**"
   ]
  },
  {
   "cell_type": "markdown",
   "id": "98545f50-a9d4-48cd-ae51-172f7037e461",
   "metadata": {},
   "source": [
    "**1.Which company has maximum cab users at a particular time (2017) period?**"
   ]
  },
  {
   "cell_type": "code",
   "execution_count": 259,
   "id": "4a15b8a7-146f-42d3-b220-afc8f78fde06",
   "metadata": {},
   "outputs": [
    {
     "data": {
      "text/plain": [
       "Company\n",
       "Pink Cab      30301\n",
       "Yellow Cab    98212\n",
       "Name: Customer_ID, dtype: int64"
      ]
     },
     "execution_count": 259,
     "metadata": {},
     "output_type": "execute_result"
    }
   ],
   "source": [
    "df1[df1['Travel by Years'] == '2017'].groupby('Company')['Customer_ID'].size()"
   ]
  },
  {
   "cell_type": "code",
   "execution_count": 260,
   "id": "7fe93c5a-8c53-467c-9af1-343c98515cd7",
   "metadata": {},
   "outputs": [
    {
     "data": {
      "image/png": "[encoded data removed]",
      "text/plain": [
       "<Figure size 640x480 with 1 Axes>"
      ]
     },
     "metadata": {},
     "output_type": "display_data"
    }
   ],
   "source": [
    "travel_counts = df1[df1['Travel by Years'] == '2017'].groupby('Company')['Customer_ID'].size()\n",
    "\n",
    "travel_counts.plot(kind='bar', xlabel='Company', ylabel='Number of Travels', title='Travels per Company in 2017')\n",
    "\n",
    "plt.show()"
   ]
  },
  {
   "cell_type": "code",
   "execution_count": null,
   "id": "b8029d48-6be9-478d-b3c0-eccd45a36401",
   "metadata": {},
   "outputs": [],
   "source": []
  },
  {
   "cell_type": "markdown",
   "id": "cd6fb7a5-03b2-435c-b922-0ed00a92f988",
   "metadata": {},
   "source": [
    "**2.Does margin proportionally increase with increase in number of customers?**"
   ]
  },
  {
   "cell_type": "code",
   "execution_count": 261,
   "id": "1b917aa4-a71f-45aa-b89c-032e15ab1896",
   "metadata": {},
   "outputs": [],
   "source": [
    "df2 = df1.groupby(['Travel by Months', 'Travel by Years', 'Company'])['Customer_ID', 'Price Charged', 'Cost of Trip'].agg({'Customer_ID': 'nunique', 'Price Charged': 'sum', 'Cost of Trip': 'sum'})\n",
    "df2['Margin'] = df2['Price Charged'] - df2['Cost of Trip']"
   ]
  },
  {
   "cell_type": "code",
   "execution_count": 262,
   "id": "b66e9b9a-2064-4b22-bac8-4c2acafcee75",
   "metadata": {},
   "outputs": [
    {
     "data": {
      "image/png": "[encoded data removed]",
      "text/plain": [
       "<Figure size 640x480 with 1 Axes>"
      ]
     },
     "metadata": {},
     "output_type": "display_data"
    }
   ],
   "source": [
    "df2.plot.scatter(x='Customer_ID', y='Margin')\n",
    "plt.xlabel('Number of Customers')\n",
    "plt.ylabel('Margin')\n",
    "plt.title('Margin vs Number of Customers')\n",
    "plt.show()"
   ]
  },
  {
   "cell_type": "markdown",
   "id": "7652b1a0-856b-4c2a-b96b-ac80d32cbff3",
   "metadata": {},
   "source": [
    "**We clearly see in graph that margin proportionally increase when number of customers expand**"
   ]
  },
  {
   "cell_type": "code",
   "execution_count": null,
   "id": "98d653b0-e8a5-4aa1-a2e4-932a51d61948",
   "metadata": {},
   "outputs": [],
   "source": []
  },
  {
   "cell_type": "markdown",
   "id": "a9b6ec13-5dfc-410a-b80d-19261539a963",
   "metadata": {},
   "source": [
    "**3.What are the attributes of these customer segments?**"
   ]
  },
  {
   "cell_type": "code",
   "execution_count": 263,
   "id": "b29f3607-b82f-43b9-91ad-76ead6a4eb27",
   "metadata": {},
   "outputs": [
    {
     "data": {
      "text/html": [
       "<div>\n",
       "<style scoped>\n",
       "    .dataframe tbody tr th:only-of-type {\n",
       "        vertical-align: middle;\n",
       "    }\n",
       "\n",
       "    .dataframe tbody tr th {\n",
       "        vertical-align: top;\n",
       "    }\n",
       "\n",
       "    .dataframe thead th {\n",
       "        text-align: right;\n",
       "    }\n",
       "</style>\n",
       "<table border=\"1\" class=\"dataframe\">\n",
       "  <thead>\n",
       "    <tr style=\"text-align: right;\">\n",
       "      <th></th>\n",
       "      <th>Age</th>\n",
       "      <th>Income (USD/Month)</th>\n",
       "      <th>KM Travelled</th>\n",
       "      <th>Price Charged</th>\n",
       "      <th>Cost of Trip</th>\n",
       "    </tr>\n",
       "    <tr>\n",
       "      <th>Company</th>\n",
       "      <th></th>\n",
       "      <th></th>\n",
       "      <th></th>\n",
       "      <th></th>\n",
       "      <th></th>\n",
       "    </tr>\n",
       "  </thead>\n",
       "  <tbody>\n",
       "    <tr>\n",
       "      <th>Pink Cab</th>\n",
       "      <td>35.322671</td>\n",
       "      <td>15058.557549</td>\n",
       "      <td>22.559057</td>\n",
       "      <td>310.773854</td>\n",
       "      <td>248.137294</td>\n",
       "    </tr>\n",
       "    <tr>\n",
       "      <th>Yellow Cab</th>\n",
       "      <td>34.808410</td>\n",
       "      <td>14964.178733</td>\n",
       "      <td>22.540083</td>\n",
       "      <td>441.936582</td>\n",
       "      <td>294.410531</td>\n",
       "    </tr>\n",
       "  </tbody>\n",
       "</table>\n",
       "</div>"
      ],
      "text/plain": [
       "                  Age  Income (USD/Month)  KM Travelled  Price Charged  \\\n",
       "Company                                                                  \n",
       "Pink Cab    35.322671        15058.557549     22.559057     310.773854   \n",
       "Yellow Cab  34.808410        14964.178733     22.540083     441.936582   \n",
       "\n",
       "            Cost of Trip  \n",
       "Company                   \n",
       "Pink Cab      248.137294  \n",
       "Yellow Cab    294.410531  "
      ]
     },
     "execution_count": 263,
     "metadata": {},
     "output_type": "execute_result"
    }
   ],
   "source": [
    "df1.groupby('Company').agg({'Age': 'mean', 'Income (USD/Month)': 'mean',\n",
    "                                                   'KM Travelled': 'mean','Price Charged' : 'mean',\n",
    "                                                  'Cost of Trip' : 'mean'})"
   ]
  },
  {
   "cell_type": "code",
   "execution_count": null,
   "id": "69340ce5-78de-4f99-bd13-446c650e3316",
   "metadata": {},
   "outputs": [],
   "source": []
  },
  {
   "cell_type": "code",
   "execution_count": null,
   "id": "5e7436c4-c71c-4043-836d-a08afd4e380b",
   "metadata": {},
   "outputs": [],
   "source": []
  },
  {
   "cell_type": "markdown",
   "id": "7b235ddc-773a-47e1-8514-bd4766f0c7be",
   "metadata": {},
   "source": [
    "**In conclusion, we can say the following.**"
   ]
  },
  {
   "cell_type": "markdown",
   "id": "10da2645-6c72-4b6b-a197-67b3660bf2bf",
   "metadata": {},
   "source": [
    "1.Yellow Cab Taxi Company's average price charged and cost of trip is higher than Pink Cab.\n",
    "\n",
    "2.Customers prefer to card payment model rather than cash.\n",
    "\n",
    "3.There is a slow decrease in the price of taxi companies between 2016 and 2018.\n",
    "\n",
    "4.Companies have a different pricing strategy for each quarter of the year.\n",
    "\n",
    "5.Yellow Cab has more customers than Pink Cab\n",
    "\n",
    "\n",
    "**Based on these data, we can say that the Yellow Cab offers more advantages for investment.**\n"
   ]
  },
  {
   "cell_type": "code",
   "execution_count": null,
   "id": "c197fcd3-f4a2-4573-9d14-8d2153aa33af",
   "metadata": {},
   "outputs": [],
   "source": []
  }
 ],
 "metadata": {
  "kernelspec": {
   "display_name": "Python 3 (ipykernel)",
   "language": "python",
   "name": "python3"
  },
  "language_info": {
   "codemirror_mode": {
    "name": "ipython",
    "version": 3
   },
   "file_extension": ".py",
   "mimetype": "text/x-python",
   "name": "python",
   "nbconvert_exporter": "python",
   "pygments_lexer": "ipython3",
   "version": "3.9.13"
  }
 },
 "nbformat": 4,
 "nbformat_minor": 5
}
