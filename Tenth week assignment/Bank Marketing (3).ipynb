{
 "cells": [
  {
   "cell_type": "markdown",
   "id": "2221449e-6726-4004-8edd-a0d3c526e19f",
   "metadata": {},
   "source": [
    "###  Bank Marketing (Campaign) -- Group Project"
   ]
  },
  {
   "cell_type": "markdown",
   "id": "9ffaa2f6-f738-44c2-86d3-bea2037d5120",
   "metadata": {},
   "source": [
    "**Problem Statement:**\n",
    "\n",
    "ABC Bank wants to sell it's term deposit product to customers and before launching the product they want to develop a model which help them in understanding whether a particular customer will buy their product or not (based on customer's past interaction with bank or other Financial Institution)."
   ]
  },
  {
   "cell_type": "markdown",
   "id": "000526b5-1ba7-4cc8-848b-b992441f3960",
   "metadata": {},
   "source": [
    "**Why ML Model:** Bank wants to use ML model to shortlist customer whose chances of buying the product is more so that their marketing channel (tele marketing, SMS/email marketing etc)  can focus only to those customers whose chances of buying the product is more.\n",
    "\n",
    "This will save resource and their time ( which is directly involved in the cost ( resource billing)).\n",
    "\n",
    "Develop model with Duration and without duration feature and report the performance of the model.\n",
    "\n",
    "Duration feature is not recommended as this will be difficult to explain the result to business and also it will be difficult for business to campaign based on duration."
   ]
  },
  {
   "cell_type": "markdown",
   "id": "d8543d06-bad6-4bd1-9c39-40f827580238",
   "metadata": {},
   "source": [
    "**Task:**\n",
    "\n",
    "Business Understanding\n",
    "\n",
    "Data understanding\n",
    "\n",
    "Exploratory data Analysis\n",
    "\n",
    "Data Preparation\n",
    "\n",
    "Model Building ( Logistic Regression, ensemble, Boosting etc)\n",
    "\n",
    "Model Selection\n",
    "\n",
    "Performance reporting\n",
    "\n",
    "Deploy the model\n",
    "\n",
    "Converting ML metrics into Business metric and explaining result to business\n",
    "\n",
    "Prepare presentation for non technical persons."
   ]
  },
  {
   "cell_type": "markdown",
   "id": "4574e733-4de1-4dd6-893e-3f73f82dc74f",
   "metadata": {},
   "source": [
    "**Data Set Information :**\n",
    "\n",
    "The data is related with direct marketing campaigns of a Portuguese banking institution. The marketing campaigns were based on phone calls. Often, more than one contact to the same client was required, in order to access if the product (bank term deposit) would be ('yes') or not ('no') subscribed.\n",
    "\n",
    "The classification goal is to predict if the client will subscribe (yes/no) a term deposit (variable y)."
   ]
  },
  {
   "cell_type": "markdown",
   "id": "edee4fba-1bab-416d-a7b6-9ae1e4516a6a",
   "metadata": {},
   "source": [
    "# Attribute Information:\n",
    "\n",
    "# Input variables:\n",
    "**bank client data:**\n",
    "1 - age (numeric)\n",
    "\n",
    "2 - job : type of job (categorical: 'admin.','blue-collar','entrepreneur','housemaid','management','retired','self-employed','services','student','technician','unemployed','unknown')\n",
    "\n",
    "3 - marital : marital status (categorical: 'divorced','married','single','unknown'; note: 'divorced' means divorced or widowed)\n",
    "\n",
    "4 - education (categorical: 'basic.4y','basic.6y','basic.9y','high.school','illiterate','professional.course','university.degree','unknown')\n",
    "\n",
    "5 - default: has credit in default? (categorical: 'no','yes','unknown')\n",
    "\n",
    "6 - housing: has housing loan? (categorical: 'no','yes','unknown')\n",
    "\n",
    "7 - loan: has personal loan? (categorical: 'no','yes','unknown')\n",
    "\n",
    "**related with the last contact of the current campaign:**\n",
    "8 - contact: contact communication type (categorical: 'cellular','telephone')\n",
    "\n",
    "9 - month: last contact month of year (categorical: 'jan', 'feb', 'mar', ..., 'nov', 'dec')\n",
    "\n",
    "10 - day_of_week: last contact day of the week (categorical: 'mon','tue','wed','thu','fri')\n",
    "\n",
    "11 - duration: last contact duration, in seconds (numeric). Important note: this attribute highly affects the output target (e.g., if duration=0 then y='no'). Yet, the duration is not known before a call is performed. Also, after the end of the call y is obviously known. Thus, this input should only be included for benchmark purposes and should be discarded if the intention is to have a realistic predictive model.\n",
    "\n",
    "**other attributes:**\n",
    "12 - campaign: number of contacts performed during this campaign and for this client (numeric, includes last contact)\n",
    "\n",
    "13 - pdays: number of days that passed by after the client was last contacted from a previous campaign (numeric; 999 means client was not previously contacted)\n",
    "\n",
    "14 - previous: number of contacts performed before this campaign and for this client (numeric)\n",
    "\n",
    "15 - poutcome: outcome of the previous marketing campaign (categorical: 'failure','nonexistent','success')\n",
    "\n",
    "**social and economic context attributes**\n",
    "16 - emp.var.rate: employment variation rate - quarterly indicator (numeric)\n",
    "\n",
    "17 - cons.price.idx: consumer price index - monthly indicator (numeric)\n",
    "\n",
    "18 - cons.conf.idx: consumer confidence index - monthly indicator (numeric)\n",
    "\n",
    "19 - euribor3m: euribor 3 month rate - daily indicator (numeric)\n",
    "20 - nr.employed: number of employees - quarterly indicator (numeric)\n",
    "\n",
    "# Output variable (desired target):**\n",
    "21 - y - has the client subscribed a term deposit? (binary: 'yes','no')"
   ]
  },
  {
   "cell_type": "code",
   "execution_count": 171,
   "id": "37f5d078-0777-48a9-a9d4-584ef76d4dfc",
   "metadata": {},
   "outputs": [],
   "source": [
    "#Let's import libraries\n",
    "import numpy as np\n",
    "import pandas as pd\n",
    "import matplotlib.pyplot as plt \n",
    "%matplotlib inline \n",
    "import seaborn as sns \n",
    "from sklearn.model_selection import train_test_split\n",
    "from sklearn.preprocessing import StandardScaler\n",
    "from sklearn.model_selection import GridSearchCV\n",
    "from sklearn.model_selection import ShuffleSplit\n",
    "from sklearn.linear_model import LogisticRegression\n",
    "from sklearn.svm import SVC\n",
    "from sklearn.tree import DecisionTreeClassifier\n",
    "from sklearn.ensemble import RandomForestClassifier\n",
    "from sklearn.metrics import accuracy_score\n",
    "from sklearn.metrics import confusion_matrix\n",
    "from sklearn.metrics import precision_score\n",
    "from sklearn.metrics import recall_score\n",
    "from sklearn.metrics import f1_score\n",
    "from sklearn.metrics import roc_auc_score\n",
    "from sklearn.metrics import roc_curve\n",
    "from sklearn.model_selection import cross_val_score\n",
    "import warnings\n",
    "warnings.filterwarnings(\"ignore\")"
   ]
  },
  {
   "cell_type": "code",
   "execution_count": 80,
   "id": "6b9d06ac-c377-4b81-b2bf-7f149267a042",
   "metadata": {},
   "outputs": [],
   "source": [
    "#Read the dataset\n",
    "df=pd.read_csv(r\"C:\\Users\\Lenovo\\Desktop\\İntership Projects\\Seventh week\\bank.csv\", sep=';')"
   ]
  },
  {
   "cell_type": "code",
   "execution_count": 81,
   "id": "3ae20e6b-5fd9-47e9-8238-fc5b37e8988f",
   "metadata": {},
   "outputs": [],
   "source": [
    "#Let's drop duration columns because we will not need it as it mentioned in information of dataset\n",
    "df.drop('duration',axis=1,inplace = True)"
   ]
  },
  {
   "cell_type": "markdown",
   "id": "8331cb1d-6d61-48d1-9e64-53c28bee9a7b",
   "metadata": {},
   "source": [
    "## Explorotory Data Analysis (EDA)"
   ]
  },
  {
   "cell_type": "code",
   "execution_count": 82,
   "id": "27414aa5-7a3d-444c-9fe4-3d832da40de1",
   "metadata": {},
   "outputs": [
    {
     "data": {
      "text/html": [
       "<div>\n",
       "<style scoped>\n",
       "    .dataframe tbody tr th:only-of-type {\n",
       "        vertical-align: middle;\n",
       "    }\n",
       "\n",
       "    .dataframe tbody tr th {\n",
       "        vertical-align: top;\n",
       "    }\n",
       "\n",
       "    .dataframe thead th {\n",
       "        text-align: right;\n",
       "    }\n",
       "</style>\n",
       "<table border=\"1\" class=\"dataframe\">\n",
       "  <thead>\n",
       "    <tr style=\"text-align: right;\">\n",
       "      <th></th>\n",
       "      <th>age</th>\n",
       "      <th>job</th>\n",
       "      <th>marital</th>\n",
       "      <th>education</th>\n",
       "      <th>default</th>\n",
       "      <th>balance</th>\n",
       "      <th>housing</th>\n",
       "      <th>loan</th>\n",
       "      <th>contact</th>\n",
       "      <th>day</th>\n",
       "      <th>month</th>\n",
       "      <th>campaign</th>\n",
       "      <th>pdays</th>\n",
       "      <th>previous</th>\n",
       "      <th>poutcome</th>\n",
       "      <th>y</th>\n",
       "    </tr>\n",
       "  </thead>\n",
       "  <tbody>\n",
       "    <tr>\n",
       "      <th>0</th>\n",
       "      <td>30</td>\n",
       "      <td>unemployed</td>\n",
       "      <td>married</td>\n",
       "      <td>primary</td>\n",
       "      <td>no</td>\n",
       "      <td>1787</td>\n",
       "      <td>no</td>\n",
       "      <td>no</td>\n",
       "      <td>cellular</td>\n",
       "      <td>19</td>\n",
       "      <td>oct</td>\n",
       "      <td>1</td>\n",
       "      <td>-1</td>\n",
       "      <td>0</td>\n",
       "      <td>unknown</td>\n",
       "      <td>no</td>\n",
       "    </tr>\n",
       "    <tr>\n",
       "      <th>1</th>\n",
       "      <td>33</td>\n",
       "      <td>services</td>\n",
       "      <td>married</td>\n",
       "      <td>secondary</td>\n",
       "      <td>no</td>\n",
       "      <td>4789</td>\n",
       "      <td>yes</td>\n",
       "      <td>yes</td>\n",
       "      <td>cellular</td>\n",
       "      <td>11</td>\n",
       "      <td>may</td>\n",
       "      <td>1</td>\n",
       "      <td>339</td>\n",
       "      <td>4</td>\n",
       "      <td>failure</td>\n",
       "      <td>no</td>\n",
       "    </tr>\n",
       "    <tr>\n",
       "      <th>2</th>\n",
       "      <td>35</td>\n",
       "      <td>management</td>\n",
       "      <td>single</td>\n",
       "      <td>tertiary</td>\n",
       "      <td>no</td>\n",
       "      <td>1350</td>\n",
       "      <td>yes</td>\n",
       "      <td>no</td>\n",
       "      <td>cellular</td>\n",
       "      <td>16</td>\n",
       "      <td>apr</td>\n",
       "      <td>1</td>\n",
       "      <td>330</td>\n",
       "      <td>1</td>\n",
       "      <td>failure</td>\n",
       "      <td>no</td>\n",
       "    </tr>\n",
       "    <tr>\n",
       "      <th>3</th>\n",
       "      <td>30</td>\n",
       "      <td>management</td>\n",
       "      <td>married</td>\n",
       "      <td>tertiary</td>\n",
       "      <td>no</td>\n",
       "      <td>1476</td>\n",
       "      <td>yes</td>\n",
       "      <td>yes</td>\n",
       "      <td>unknown</td>\n",
       "      <td>3</td>\n",
       "      <td>jun</td>\n",
       "      <td>4</td>\n",
       "      <td>-1</td>\n",
       "      <td>0</td>\n",
       "      <td>unknown</td>\n",
       "      <td>no</td>\n",
       "    </tr>\n",
       "    <tr>\n",
       "      <th>4</th>\n",
       "      <td>59</td>\n",
       "      <td>blue-collar</td>\n",
       "      <td>married</td>\n",
       "      <td>secondary</td>\n",
       "      <td>no</td>\n",
       "      <td>0</td>\n",
       "      <td>yes</td>\n",
       "      <td>no</td>\n",
       "      <td>unknown</td>\n",
       "      <td>5</td>\n",
       "      <td>may</td>\n",
       "      <td>1</td>\n",
       "      <td>-1</td>\n",
       "      <td>0</td>\n",
       "      <td>unknown</td>\n",
       "      <td>no</td>\n",
       "    </tr>\n",
       "  </tbody>\n",
       "</table>\n",
       "</div>"
      ],
      "text/plain": [
       "   age          job  marital  education default  balance housing loan  \\\n",
       "0   30   unemployed  married    primary      no     1787      no   no   \n",
       "1   33     services  married  secondary      no     4789     yes  yes   \n",
       "2   35   management   single   tertiary      no     1350     yes   no   \n",
       "3   30   management  married   tertiary      no     1476     yes  yes   \n",
       "4   59  blue-collar  married  secondary      no        0     yes   no   \n",
       "\n",
       "    contact  day month  campaign  pdays  previous poutcome   y  \n",
       "0  cellular   19   oct         1     -1         0  unknown  no  \n",
       "1  cellular   11   may         1    339         4  failure  no  \n",
       "2  cellular   16   apr         1    330         1  failure  no  \n",
       "3   unknown    3   jun         4     -1         0  unknown  no  \n",
       "4   unknown    5   may         1     -1         0  unknown  no  "
      ]
     },
     "execution_count": 82,
     "metadata": {},
     "output_type": "execute_result"
    }
   ],
   "source": [
    "#First 5 rows of dataset\n",
    "df.head()"
   ]
  },
  {
   "cell_type": "code",
   "execution_count": 61,
   "id": "09816369-5e33-485f-ab77-0c1138c978c6",
   "metadata": {},
   "outputs": [
    {
     "data": {
      "text/html": [
       "<div>\n",
       "<style scoped>\n",
       "    .dataframe tbody tr th:only-of-type {\n",
       "        vertical-align: middle;\n",
       "    }\n",
       "\n",
       "    .dataframe tbody tr th {\n",
       "        vertical-align: top;\n",
       "    }\n",
       "\n",
       "    .dataframe thead th {\n",
       "        text-align: right;\n",
       "    }\n",
       "</style>\n",
       "<table border=\"1\" class=\"dataframe\">\n",
       "  <thead>\n",
       "    <tr style=\"text-align: right;\">\n",
       "      <th></th>\n",
       "      <th>age</th>\n",
       "      <th>job</th>\n",
       "      <th>marital</th>\n",
       "      <th>education</th>\n",
       "      <th>default</th>\n",
       "      <th>balance</th>\n",
       "      <th>housing</th>\n",
       "      <th>loan</th>\n",
       "      <th>contact</th>\n",
       "      <th>day</th>\n",
       "      <th>month</th>\n",
       "      <th>campaign</th>\n",
       "      <th>pdays</th>\n",
       "      <th>previous</th>\n",
       "      <th>poutcome</th>\n",
       "      <th>y</th>\n",
       "    </tr>\n",
       "  </thead>\n",
       "  <tbody>\n",
       "    <tr>\n",
       "      <th>4516</th>\n",
       "      <td>33</td>\n",
       "      <td>services</td>\n",
       "      <td>married</td>\n",
       "      <td>secondary</td>\n",
       "      <td>no</td>\n",
       "      <td>-333</td>\n",
       "      <td>yes</td>\n",
       "      <td>no</td>\n",
       "      <td>cellular</td>\n",
       "      <td>30</td>\n",
       "      <td>jul</td>\n",
       "      <td>5</td>\n",
       "      <td>-1</td>\n",
       "      <td>0</td>\n",
       "      <td>unknown</td>\n",
       "      <td>no</td>\n",
       "    </tr>\n",
       "    <tr>\n",
       "      <th>4517</th>\n",
       "      <td>57</td>\n",
       "      <td>self-employed</td>\n",
       "      <td>married</td>\n",
       "      <td>tertiary</td>\n",
       "      <td>yes</td>\n",
       "      <td>-3313</td>\n",
       "      <td>yes</td>\n",
       "      <td>yes</td>\n",
       "      <td>unknown</td>\n",
       "      <td>9</td>\n",
       "      <td>may</td>\n",
       "      <td>1</td>\n",
       "      <td>-1</td>\n",
       "      <td>0</td>\n",
       "      <td>unknown</td>\n",
       "      <td>no</td>\n",
       "    </tr>\n",
       "    <tr>\n",
       "      <th>4518</th>\n",
       "      <td>57</td>\n",
       "      <td>technician</td>\n",
       "      <td>married</td>\n",
       "      <td>secondary</td>\n",
       "      <td>no</td>\n",
       "      <td>295</td>\n",
       "      <td>no</td>\n",
       "      <td>no</td>\n",
       "      <td>cellular</td>\n",
       "      <td>19</td>\n",
       "      <td>aug</td>\n",
       "      <td>11</td>\n",
       "      <td>-1</td>\n",
       "      <td>0</td>\n",
       "      <td>unknown</td>\n",
       "      <td>no</td>\n",
       "    </tr>\n",
       "    <tr>\n",
       "      <th>4519</th>\n",
       "      <td>28</td>\n",
       "      <td>blue-collar</td>\n",
       "      <td>married</td>\n",
       "      <td>secondary</td>\n",
       "      <td>no</td>\n",
       "      <td>1137</td>\n",
       "      <td>no</td>\n",
       "      <td>no</td>\n",
       "      <td>cellular</td>\n",
       "      <td>6</td>\n",
       "      <td>feb</td>\n",
       "      <td>4</td>\n",
       "      <td>211</td>\n",
       "      <td>3</td>\n",
       "      <td>other</td>\n",
       "      <td>no</td>\n",
       "    </tr>\n",
       "    <tr>\n",
       "      <th>4520</th>\n",
       "      <td>44</td>\n",
       "      <td>entrepreneur</td>\n",
       "      <td>single</td>\n",
       "      <td>tertiary</td>\n",
       "      <td>no</td>\n",
       "      <td>1136</td>\n",
       "      <td>yes</td>\n",
       "      <td>yes</td>\n",
       "      <td>cellular</td>\n",
       "      <td>3</td>\n",
       "      <td>apr</td>\n",
       "      <td>2</td>\n",
       "      <td>249</td>\n",
       "      <td>7</td>\n",
       "      <td>other</td>\n",
       "      <td>no</td>\n",
       "    </tr>\n",
       "  </tbody>\n",
       "</table>\n",
       "</div>"
      ],
      "text/plain": [
       "      age            job  marital  education default  balance housing loan  \\\n",
       "4516   33       services  married  secondary      no     -333     yes   no   \n",
       "4517   57  self-employed  married   tertiary     yes    -3313     yes  yes   \n",
       "4518   57     technician  married  secondary      no      295      no   no   \n",
       "4519   28    blue-collar  married  secondary      no     1137      no   no   \n",
       "4520   44   entrepreneur   single   tertiary      no     1136     yes  yes   \n",
       "\n",
       "       contact  day month  campaign  pdays  previous poutcome   y  \n",
       "4516  cellular   30   jul         5     -1         0  unknown  no  \n",
       "4517   unknown    9   may         1     -1         0  unknown  no  \n",
       "4518  cellular   19   aug        11     -1         0  unknown  no  \n",
       "4519  cellular    6   feb         4    211         3    other  no  \n",
       "4520  cellular    3   apr         2    249         7    other  no  "
      ]
     },
     "execution_count": 61,
     "metadata": {},
     "output_type": "execute_result"
    }
   ],
   "source": [
    "#Last 5 rows of dataset\n",
    "df.tail()"
   ]
  },
  {
   "cell_type": "code",
   "execution_count": 83,
   "id": "8a71ef9d-bcb7-4b01-ae15-82577723b4d1",
   "metadata": {},
   "outputs": [
    {
     "data": {
      "text/plain": [
       "(4521, 16)"
      ]
     },
     "execution_count": 83,
     "metadata": {},
     "output_type": "execute_result"
    }
   ],
   "source": [
    "#Shape of dataset\n",
    "df.shape"
   ]
  },
  {
   "cell_type": "code",
   "execution_count": 63,
   "id": "8c65d1f8-a66d-4f24-a921-76062f67696a",
   "metadata": {},
   "outputs": [
    {
     "data": {
      "text/plain": [
       "Index(['age', 'job', 'marital', 'education', 'default', 'balance', 'housing',\n",
       "       'loan', 'contact', 'day', 'month', 'campaign', 'pdays', 'previous',\n",
       "       'poutcome', 'y'],\n",
       "      dtype='object')"
      ]
     },
     "execution_count": 63,
     "metadata": {},
     "output_type": "execute_result"
    }
   ],
   "source": [
    "#Columns of dataset\n",
    "df.columns"
   ]
  },
  {
   "cell_type": "code",
   "execution_count": 64,
   "id": "6f6ab61f-256d-4963-aebe-bd8e800f42f0",
   "metadata": {},
   "outputs": [
    {
     "data": {
      "text/html": [
       "<div>\n",
       "<style scoped>\n",
       "    .dataframe tbody tr th:only-of-type {\n",
       "        vertical-align: middle;\n",
       "    }\n",
       "\n",
       "    .dataframe tbody tr th {\n",
       "        vertical-align: top;\n",
       "    }\n",
       "\n",
       "    .dataframe thead th {\n",
       "        text-align: right;\n",
       "    }\n",
       "</style>\n",
       "<table border=\"1\" class=\"dataframe\">\n",
       "  <thead>\n",
       "    <tr style=\"text-align: right;\">\n",
       "      <th></th>\n",
       "      <th>age</th>\n",
       "      <th>balance</th>\n",
       "      <th>day</th>\n",
       "      <th>campaign</th>\n",
       "      <th>pdays</th>\n",
       "      <th>previous</th>\n",
       "    </tr>\n",
       "  </thead>\n",
       "  <tbody>\n",
       "    <tr>\n",
       "      <th>count</th>\n",
       "      <td>4521.000000</td>\n",
       "      <td>4521.000000</td>\n",
       "      <td>4521.000000</td>\n",
       "      <td>4521.000000</td>\n",
       "      <td>4521.000000</td>\n",
       "      <td>4521.000000</td>\n",
       "    </tr>\n",
       "    <tr>\n",
       "      <th>mean</th>\n",
       "      <td>41.170095</td>\n",
       "      <td>1422.657819</td>\n",
       "      <td>15.915284</td>\n",
       "      <td>2.793630</td>\n",
       "      <td>39.766645</td>\n",
       "      <td>0.542579</td>\n",
       "    </tr>\n",
       "    <tr>\n",
       "      <th>std</th>\n",
       "      <td>10.576211</td>\n",
       "      <td>3009.638142</td>\n",
       "      <td>8.247667</td>\n",
       "      <td>3.109807</td>\n",
       "      <td>100.121124</td>\n",
       "      <td>1.693562</td>\n",
       "    </tr>\n",
       "    <tr>\n",
       "      <th>min</th>\n",
       "      <td>19.000000</td>\n",
       "      <td>-3313.000000</td>\n",
       "      <td>1.000000</td>\n",
       "      <td>1.000000</td>\n",
       "      <td>-1.000000</td>\n",
       "      <td>0.000000</td>\n",
       "    </tr>\n",
       "    <tr>\n",
       "      <th>25%</th>\n",
       "      <td>33.000000</td>\n",
       "      <td>69.000000</td>\n",
       "      <td>9.000000</td>\n",
       "      <td>1.000000</td>\n",
       "      <td>-1.000000</td>\n",
       "      <td>0.000000</td>\n",
       "    </tr>\n",
       "    <tr>\n",
       "      <th>50%</th>\n",
       "      <td>39.000000</td>\n",
       "      <td>444.000000</td>\n",
       "      <td>16.000000</td>\n",
       "      <td>2.000000</td>\n",
       "      <td>-1.000000</td>\n",
       "      <td>0.000000</td>\n",
       "    </tr>\n",
       "    <tr>\n",
       "      <th>75%</th>\n",
       "      <td>49.000000</td>\n",
       "      <td>1480.000000</td>\n",
       "      <td>21.000000</td>\n",
       "      <td>3.000000</td>\n",
       "      <td>-1.000000</td>\n",
       "      <td>0.000000</td>\n",
       "    </tr>\n",
       "    <tr>\n",
       "      <th>max</th>\n",
       "      <td>87.000000</td>\n",
       "      <td>71188.000000</td>\n",
       "      <td>31.000000</td>\n",
       "      <td>50.000000</td>\n",
       "      <td>871.000000</td>\n",
       "      <td>25.000000</td>\n",
       "    </tr>\n",
       "  </tbody>\n",
       "</table>\n",
       "</div>"
      ],
      "text/plain": [
       "               age       balance          day     campaign        pdays  \\\n",
       "count  4521.000000   4521.000000  4521.000000  4521.000000  4521.000000   \n",
       "mean     41.170095   1422.657819    15.915284     2.793630    39.766645   \n",
       "std      10.576211   3009.638142     8.247667     3.109807   100.121124   \n",
       "min      19.000000  -3313.000000     1.000000     1.000000    -1.000000   \n",
       "25%      33.000000     69.000000     9.000000     1.000000    -1.000000   \n",
       "50%      39.000000    444.000000    16.000000     2.000000    -1.000000   \n",
       "75%      49.000000   1480.000000    21.000000     3.000000    -1.000000   \n",
       "max      87.000000  71188.000000    31.000000    50.000000   871.000000   \n",
       "\n",
       "          previous  \n",
       "count  4521.000000  \n",
       "mean      0.542579  \n",
       "std       1.693562  \n",
       "min       0.000000  \n",
       "25%       0.000000  \n",
       "50%       0.000000  \n",
       "75%       0.000000  \n",
       "max      25.000000  "
      ]
     },
     "execution_count": 64,
     "metadata": {},
     "output_type": "execute_result"
    }
   ],
   "source": [
    "#Some statistics values of dataset\n",
    "df.describe()"
   ]
  },
  {
   "cell_type": "code",
   "execution_count": 65,
   "id": "d8989d49-bb71-490b-bab8-9bc5839ad1aa",
   "metadata": {},
   "outputs": [
    {
     "name": "stdout",
     "output_type": "stream",
     "text": [
      "<class 'pandas.core.frame.DataFrame'>\n",
      "RangeIndex: 4521 entries, 0 to 4520\n",
      "Data columns (total 16 columns):\n",
      " #   Column     Non-Null Count  Dtype \n",
      "---  ------     --------------  ----- \n",
      " 0   age        4521 non-null   int64 \n",
      " 1   job        4521 non-null   object\n",
      " 2   marital    4521 non-null   object\n",
      " 3   education  4521 non-null   object\n",
      " 4   default    4521 non-null   object\n",
      " 5   balance    4521 non-null   int64 \n",
      " 6   housing    4521 non-null   object\n",
      " 7   loan       4521 non-null   object\n",
      " 8   contact    4521 non-null   object\n",
      " 9   day        4521 non-null   int64 \n",
      " 10  month      4521 non-null   object\n",
      " 11  campaign   4521 non-null   int64 \n",
      " 12  pdays      4521 non-null   int64 \n",
      " 13  previous   4521 non-null   int64 \n",
      " 14  poutcome   4521 non-null   object\n",
      " 15  y          4521 non-null   object\n",
      "dtypes: int64(6), object(10)\n",
      "memory usage: 565.2+ KB\n"
     ]
    }
   ],
   "source": [
    "#Information about columns\n",
    "df.info()"
   ]
  },
  {
   "cell_type": "code",
   "execution_count": 84,
   "id": "06d9617b-af28-40b8-acac-562f54de04cf",
   "metadata": {},
   "outputs": [
    {
     "data": {
      "text/plain": [
       "0"
      ]
     },
     "execution_count": 84,
     "metadata": {},
     "output_type": "execute_result"
    }
   ],
   "source": [
    "#Check duplicates values\n",
    "df.duplicated().sum()"
   ]
  },
  {
   "cell_type": "code",
   "execution_count": 85,
   "id": "74fc1a67-b4f1-40f5-b2c9-43f1e6b8ee77",
   "metadata": {},
   "outputs": [
    {
     "data": {
      "text/plain": [
       "age          0\n",
       "job          0\n",
       "marital      0\n",
       "education    0\n",
       "default      0\n",
       "balance      0\n",
       "housing      0\n",
       "loan         0\n",
       "contact      0\n",
       "day          0\n",
       "month        0\n",
       "campaign     0\n",
       "pdays        0\n",
       "previous     0\n",
       "poutcome     0\n",
       "y            0\n",
       "dtype: int64"
      ]
     },
     "execution_count": 85,
     "metadata": {},
     "output_type": "execute_result"
    }
   ],
   "source": [
    "#Check missing and null values \n",
    "df.isnull().sum()"
   ]
  },
  {
   "cell_type": "code",
   "execution_count": 86,
   "id": "c21beb78-b4b4-43bf-93de-ba07b59ba058",
   "metadata": {},
   "outputs": [
    {
     "data": {
      "text/plain": [
       "age           int64\n",
       "job          object\n",
       "marital      object\n",
       "education    object\n",
       "default      object\n",
       "balance       int64\n",
       "housing      object\n",
       "loan         object\n",
       "contact      object\n",
       "day           int64\n",
       "month        object\n",
       "campaign      int64\n",
       "pdays         int64\n",
       "previous      int64\n",
       "poutcome     object\n",
       "y            object\n",
       "dtype: object"
      ]
     },
     "execution_count": 86,
     "metadata": {},
     "output_type": "execute_result"
    }
   ],
   "source": [
    "#Types of columns\n",
    "df.dtypes"
   ]
  },
  {
   "cell_type": "code",
   "execution_count": 87,
   "id": "cdd45ff7-bd48-4ca3-8e1e-1fe39fbc11ba",
   "metadata": {},
   "outputs": [
    {
     "data": {
      "text/plain": [
       "Index(['age', 'balance', 'day', 'campaign', 'pdays', 'previous'], dtype='object')"
      ]
     },
     "execution_count": 87,
     "metadata": {},
     "output_type": "execute_result"
    }
   ],
   "source": [
    "# Let's find that which columns are numerical in dataset\n",
    "numeric_columns = df.select_dtypes(include=['int','float']).columns\n",
    "numeric_columns"
   ]
  },
  {
   "cell_type": "code",
   "execution_count": 88,
   "id": "208645f9-30c6-43a0-be31-2e2c0caaf36c",
   "metadata": {},
   "outputs": [
    {
     "data": {
      "image/png": "[encoded data removed]",
      "text/plain": [
       "<Figure size 1200x800 with 6 Axes>"
      ]
     },
     "metadata": {},
     "output_type": "display_data"
    }
   ],
   "source": [
    "#Let's visualize numerical variable in the dataset to understand it \n",
    "\n",
    "df.hist(figsize=(12,8))\n",
    "plt.show()"
   ]
  },
  {
   "cell_type": "code",
   "execution_count": 89,
   "id": "48542713-f075-45b4-aa53-5fd80cd03c8f",
   "metadata": {},
   "outputs": [
    {
     "data": {
      "text/plain": [
       "Index(['job', 'marital', 'education', 'default', 'housing', 'loan', 'contact',\n",
       "       'month', 'poutcome', 'y'],\n",
       "      dtype='object')"
      ]
     },
     "execution_count": 89,
     "metadata": {},
     "output_type": "execute_result"
    }
   ],
   "source": [
    "# Let's find that which columns are categorical in dataset\n",
    "categorical_columns=df.select_dtypes(include='object').columns\n",
    "categorical_columns"
   ]
  },
  {
   "cell_type": "code",
   "execution_count": 90,
   "id": "1ee7c31c-fc9f-498e-b27f-fd29980cd3dd",
   "metadata": {},
   "outputs": [
    {
     "data": {
      "image/png": "[encoded data removed]",
      "text/plain": [
       "<Figure size 640x480 with 1 Axes>"
      ]
     },
     "metadata": {},
     "output_type": "display_data"
    },
    {
     "data": {
      "image/png": "[encoded data removed]",
      "text/plain": [
       "<Figure size 640x480 with 1 Axes>"
      ]
     },
     "metadata": {},
     "output_type": "display_data"
    },
    {
     "data": {
      "image/png": "[encoded data removed]",
      "text/plain": [
       "<Figure size 640x480 with 1 Axes>"
      ]
     },
     "metadata": {},
     "output_type": "display_data"
    },
    {
     "data": {
      "image/png": "[encoded data removed]",
      "text/plain": [
       "<Figure size 640x480 with 1 Axes>"
      ]
     },
     "metadata": {},
     "output_type": "display_data"
    },
    {
     "data": {
      "image/png": "[encoded data removed]",
      "text/plain": [
       "<Figure size 640x480 with 1 Axes>"
      ]
     },
     "metadata": {},
     "output_type": "display_data"
    },
    {
     "data": {
      "image/png": "[encoded data removed]",
      "text/plain": [
       "<Figure size 640x480 with 1 Axes>"
      ]
     },
     "metadata": {},
     "output_type": "display_data"
    },
    {
     "data": {
      "image/png": "[encoded data removed]",
      "text/plain": [
       "<Figure size 640x480 with 1 Axes>"
      ]
     },
     "metadata": {},
     "output_type": "display_data"
    },
    {
     "data": {
      "image/png": "[encoded data removed]",
      "text/plain": [
       "<Figure size 640x480 with 1 Axes>"
      ]
     },
     "metadata": {},
     "output_type": "display_data"
    },
    {
     "data": {
      "image/png": "[encoded data removed]",
      "text/plain": [
       "<Figure size 640x480 with 1 Axes>"
      ]
     },
     "metadata": {},
     "output_type": "display_data"
    },
    {
     "data": {
      "image/png": "[encoded data removed]",
      "text/plain": [
       "<Figure size 640x480 with 1 Axes>"
      ]
     },
     "metadata": {},
     "output_type": "display_data"
    }
   ],
   "source": [
    "#Let's visualize categorical variables\n",
    "for column in categorical_columns:\n",
    "    sns.countplot(x=column, data=df)\n",
    "    plt.xticks(rotation=90)\n",
    "    plt.show()"
   ]
  },
  {
   "cell_type": "markdown",
   "id": "63633ddd-bbae-4443-b8cc-41237b0cb93c",
   "metadata": {},
   "source": [
    "## Categorical Variables"
   ]
  },
  {
   "cell_type": "markdown",
   "id": "d27181ae-b098-48a7-8813-a07d07c9384d",
   "metadata": {},
   "source": [
    "There are 2 ranges of variables in ML.\n",
    "\n",
    "1.Nominal variables which order is not important such as colors.\n",
    "\n",
    "2.Ordinal variables which order is important such as Bachelor's Degree, Master's Degree, Doctorate Degree."
   ]
  },
  {
   "cell_type": "markdown",
   "id": "07d36c5e-7609-40c3-a432-3e70cad2f031",
   "metadata": {},
   "source": [
    "**Ordinal variables**"
   ]
  },
  {
   "cell_type": "markdown",
   "id": "5512a45f-6cc1-4e60-802e-0ae00927d6fa",
   "metadata": {},
   "source": [
    "**poutcome**"
   ]
  },
  {
   "cell_type": "code",
   "execution_count": 91,
   "id": "b4a81061-6bd7-4e94-8822-d98a548e3cc9",
   "metadata": {},
   "outputs": [
    {
     "data": {
      "text/plain": [
       "unknown    3705\n",
       "failure     490\n",
       "other       197\n",
       "success     129\n",
       "Name: poutcome, dtype: int64"
      ]
     },
     "execution_count": 91,
     "metadata": {},
     "output_type": "execute_result"
    }
   ],
   "source": [
    "df['poutcome'].value_counts()"
   ]
  },
  {
   "cell_type": "code",
   "execution_count": 69,
   "id": "e715e3f3-2baa-442f-952a-def39114d116",
   "metadata": {},
   "outputs": [
    {
     "data": {
      "image/png": "[encoded data removed]",
      "text/plain": [
       "<Figure size 640x480 with 1 Axes>"
      ]
     },
     "metadata": {},
     "output_type": "display_data"
    }
   ],
   "source": [
    "#let's visaulize it\n",
    "sns.countplot(data=df,x=df.poutcome)\n",
    "plt.show()"
   ]
  },
  {
   "cell_type": "code",
   "execution_count": 92,
   "id": "8ddfef2a-5a73-4fc3-b300-ffbdb5b1fdaf",
   "metadata": {},
   "outputs": [],
   "source": [
    "df['poutcome']=df['poutcome'].map({'success' :1,'failure': -1, 'other' :0,'unknown' :0})"
   ]
  },
  {
   "cell_type": "code",
   "execution_count": 93,
   "id": "81b7ebc1-375b-42f8-a0e5-7ce89921d8e2",
   "metadata": {},
   "outputs": [
    {
     "data": {
      "text/plain": [
       " 0    3902\n",
       "-1     490\n",
       " 1     129\n",
       "Name: poutcome, dtype: int64"
      ]
     },
     "execution_count": 93,
     "metadata": {},
     "output_type": "execute_result"
    }
   ],
   "source": [
    "df['poutcome'].value_counts()"
   ]
  },
  {
   "cell_type": "markdown",
   "id": "fe9083e0-8f22-4a0a-bb0e-26f3dac5115e",
   "metadata": {},
   "source": [
    "**default**"
   ]
  },
  {
   "cell_type": "code",
   "execution_count": 94,
   "id": "0f9b129e-4cdb-4f35-b4db-b00bafbd23a7",
   "metadata": {},
   "outputs": [
    {
     "data": {
      "text/plain": [
       "no     4445\n",
       "yes      76\n",
       "Name: default, dtype: int64"
      ]
     },
     "execution_count": 94,
     "metadata": {},
     "output_type": "execute_result"
    }
   ],
   "source": [
    "df['default'].value_counts()"
   ]
  },
  {
   "cell_type": "code",
   "execution_count": 95,
   "id": "cb836f4a-b00c-4d86-9689-1cb8b94a311d",
   "metadata": {},
   "outputs": [
    {
     "data": {
      "image/png": "[encoded data removed]",
      "text/plain": [
       "<Figure size 640x480 with 1 Axes>"
      ]
     },
     "metadata": {},
     "output_type": "display_data"
    }
   ],
   "source": [
    "#let's visualize it\n",
    "sns.countplot(x=df.default,data=df)\n",
    "plt.show()"
   ]
  },
  {
   "cell_type": "code",
   "execution_count": 96,
   "id": "a16eeadf-2e4a-4308-be61-6bf95b230ce0",
   "metadata": {},
   "outputs": [],
   "source": [
    "#Let's drop default columns because it is not more important\n",
    "\n",
    "df.drop(['default'],axis=1,inplace=True)"
   ]
  },
  {
   "cell_type": "markdown",
   "id": "7bd73d70-7f5e-4cd9-bac6-9c0294cfcb82",
   "metadata": {},
   "source": [
    "**housing**"
   ]
  },
  {
   "cell_type": "code",
   "execution_count": 97,
   "id": "d9177773-33b8-41e1-9d5f-2e5ccd5af9c8",
   "metadata": {},
   "outputs": [
    {
     "data": {
      "text/plain": [
       "yes    2559\n",
       "no     1962\n",
       "Name: housing, dtype: int64"
      ]
     },
     "execution_count": 97,
     "metadata": {},
     "output_type": "execute_result"
    }
   ],
   "source": [
    "df['housing'].value_counts()"
   ]
  },
  {
   "cell_type": "code",
   "execution_count": 98,
   "id": "919d1b2e-5273-4d0e-9374-a5fc9caf0ae5",
   "metadata": {},
   "outputs": [
    {
     "data": {
      "image/png": "[encoded data removed]",
      "text/plain": [
       "<Figure size 640x480 with 1 Axes>"
      ]
     },
     "metadata": {},
     "output_type": "display_data"
    }
   ],
   "source": [
    "#let's visualize it\n",
    "sns.countplot(x=df.housing,data=df)\n",
    "plt.show()"
   ]
  },
  {
   "cell_type": "code",
   "execution_count": 99,
   "id": "576f9374-818e-4c15-bff7-00522ba60699",
   "metadata": {},
   "outputs": [],
   "source": [
    "df['housing']=df['housing'].map({'yes' : 1, 'no' :0})"
   ]
  },
  {
   "cell_type": "code",
   "execution_count": 100,
   "id": "12483a87-5a4a-45f2-abab-55ddab436ba8",
   "metadata": {},
   "outputs": [
    {
     "data": {
      "text/plain": [
       "1    2559\n",
       "0    1962\n",
       "Name: housing, dtype: int64"
      ]
     },
     "execution_count": 100,
     "metadata": {},
     "output_type": "execute_result"
    }
   ],
   "source": [
    "df['housing'].value_counts()"
   ]
  },
  {
   "cell_type": "markdown",
   "id": "93487f17-f21a-42cb-bb9a-92fc563e80b8",
   "metadata": {},
   "source": [
    "**loan**"
   ]
  },
  {
   "cell_type": "code",
   "execution_count": 101,
   "id": "2fb27d2b-0941-4e93-a966-adf8213c7898",
   "metadata": {},
   "outputs": [
    {
     "data": {
      "text/plain": [
       "no     3830\n",
       "yes     691\n",
       "Name: loan, dtype: int64"
      ]
     },
     "execution_count": 101,
     "metadata": {},
     "output_type": "execute_result"
    }
   ],
   "source": [
    "df['loan'].value_counts()"
   ]
  },
  {
   "cell_type": "code",
   "execution_count": 102,
   "id": "25361719-29ef-404e-95c3-5e13456b39bf",
   "metadata": {},
   "outputs": [
    {
     "data": {
      "image/png": "[encoded data removed]",
      "text/plain": [
       "<Figure size 640x480 with 1 Axes>"
      ]
     },
     "metadata": {},
     "output_type": "display_data"
    }
   ],
   "source": [
    "#let's visualize it\n",
    "sns.countplot(x=df.loan,data=df)\n",
    "plt.show()"
   ]
  },
  {
   "cell_type": "code",
   "execution_count": 103,
   "id": "5d2303f9-5e58-4419-a76e-0d56942c7996",
   "metadata": {},
   "outputs": [],
   "source": [
    "df['loan']=df['loan'].map({'yes' :1, 'no' : 0})"
   ]
  },
  {
   "cell_type": "code",
   "execution_count": 88,
   "id": "4ab5111f-bba3-4388-a517-5e3789ab6409",
   "metadata": {},
   "outputs": [
    {
     "data": {
      "text/plain": [
       "0    3830\n",
       "1     691\n",
       "Name: loan, dtype: int64"
      ]
     },
     "execution_count": 88,
     "metadata": {},
     "output_type": "execute_result"
    }
   ],
   "source": [
    "df['loan'].value_counts()"
   ]
  },
  {
   "cell_type": "markdown",
   "id": "615918a1-1027-4bb9-b5e2-a436eec01f31",
   "metadata": {},
   "source": [
    "## Nominal Variables"
   ]
  },
  {
   "cell_type": "code",
   "execution_count": 104,
   "id": "884c4c00-8bce-4dca-882b-c686ed937227",
   "metadata": {},
   "outputs": [],
   "source": [
    "nominal_variables=['job','marital','education','contact','month','day']"
   ]
  },
  {
   "cell_type": "code",
   "execution_count": 105,
   "id": "57b8a608-03a6-4570-9e35-6db93ae4ee48",
   "metadata": {},
   "outputs": [
    {
     "data": {
      "image/png": "[encoded data removed]",
      "text/plain": [
       "<Figure size 640x480 with 1 Axes>"
      ]
     },
     "metadata": {},
     "output_type": "display_data"
    },
    {
     "data": {
      "image/png": "[encoded data removed]",
      "text/plain": [
       "<Figure size 640x480 with 1 Axes>"
      ]
     },
     "metadata": {},
     "output_type": "display_data"
    },
    {
     "data": {
      "image/png": "[encoded data removed]",
      "text/plain": [
       "<Figure size 640x480 with 1 Axes>"
      ]
     },
     "metadata": {},
     "output_type": "display_data"
    },
    {
     "data": {
      "image/png": "[encoded data removed]",
      "text/plain": [
       "<Figure size 640x480 with 1 Axes>"
      ]
     },
     "metadata": {},
     "output_type": "display_data"
    },
    {
     "data": {
      "image/png": "[encoded data removed]",
      "text/plain": [
       "<Figure size 640x480 with 1 Axes>"
      ]
     },
     "metadata": {},
     "output_type": "display_data"
    },
    {
     "data": {
      "image/png": "[encoded data removed]",
      "text/plain": [
       "<Figure size 640x480 with 1 Axes>"
      ]
     },
     "metadata": {},
     "output_type": "display_data"
    }
   ],
   "source": [
    "#Let's visualize nominal variables\n",
    "for column in nominal_variables:\n",
    "    sns.countplot(x=column, data=df)\n",
    "    plt.xticks(rotation=90)\n",
    "    plt.show()"
   ]
  },
  {
   "cell_type": "markdown",
   "id": "73f2580d-aab3-44c5-a1bf-3200fcaf1c12",
   "metadata": {},
   "source": [
    "## Target Variable"
   ]
  },
  {
   "cell_type": "code",
   "execution_count": 106,
   "id": "32ea71bf-a71b-4d5b-8563-4b612d272989",
   "metadata": {},
   "outputs": [
    {
     "data": {
      "text/plain": [
       "no     4000\n",
       "yes     521\n",
       "Name: y, dtype: int64"
      ]
     },
     "execution_count": 106,
     "metadata": {},
     "output_type": "execute_result"
    }
   ],
   "source": [
    "df['y'].value_counts()"
   ]
  },
  {
   "cell_type": "code",
   "execution_count": 107,
   "id": "e9c8bb0f-7afa-4b2d-a1b5-4af8a202875a",
   "metadata": {},
   "outputs": [
    {
     "data": {
      "image/png": "[encoded data removed]",
      "text/plain": [
       "<Figure size 640x480 with 1 Axes>"
      ]
     },
     "metadata": {},
     "output_type": "display_data"
    }
   ],
   "source": [
    "#let's visualize it\n",
    "sns.countplot(x=df.y,data=df)\n",
    "plt.show()"
   ]
  },
  {
   "cell_type": "code",
   "execution_count": 108,
   "id": "6eab5530-a109-4bc0-8c7a-29fc51f9b18c",
   "metadata": {},
   "outputs": [],
   "source": [
    "df['y']=df['y'].map({'yes' :1,'no' :0})"
   ]
  },
  {
   "cell_type": "code",
   "execution_count": 109,
   "id": "5613c919-5903-4c17-8f44-e40f3aafe11e",
   "metadata": {},
   "outputs": [
    {
     "data": {
      "text/plain": [
       "0    4000\n",
       "1     521\n",
       "Name: y, dtype: int64"
      ]
     },
     "execution_count": 109,
     "metadata": {},
     "output_type": "execute_result"
    }
   ],
   "source": [
    "df['y'].value_counts()"
   ]
  },
  {
   "cell_type": "markdown",
   "id": "2f4048e7-d599-45c7-9c8a-33e522a6788c",
   "metadata": {},
   "source": [
    "## One Hot Encoding"
   ]
  },
  {
   "cell_type": "code",
   "execution_count": 110,
   "id": "1359822a-00be-45f8-9ed0-27a1ad9144d9",
   "metadata": {},
   "outputs": [],
   "source": [
    "df=pd.get_dummies(df,columns=nominal_variables)"
   ]
  },
  {
   "cell_type": "code",
   "execution_count": 111,
   "id": "3ac757e5-589e-4953-b9f9-cd6cb90b7bdf",
   "metadata": {},
   "outputs": [
    {
     "data": {
      "text/html": [
       "<div>\n",
       "<style scoped>\n",
       "    .dataframe tbody tr th:only-of-type {\n",
       "        vertical-align: middle;\n",
       "    }\n",
       "\n",
       "    .dataframe tbody tr th {\n",
       "        vertical-align: top;\n",
       "    }\n",
       "\n",
       "    .dataframe thead th {\n",
       "        text-align: right;\n",
       "    }\n",
       "</style>\n",
       "<table border=\"1\" class=\"dataframe\">\n",
       "  <thead>\n",
       "    <tr style=\"text-align: right;\">\n",
       "      <th></th>\n",
       "      <th>age</th>\n",
       "      <th>balance</th>\n",
       "      <th>housing</th>\n",
       "      <th>loan</th>\n",
       "      <th>campaign</th>\n",
       "      <th>pdays</th>\n",
       "      <th>previous</th>\n",
       "      <th>poutcome</th>\n",
       "      <th>y</th>\n",
       "      <th>job_admin.</th>\n",
       "      <th>...</th>\n",
       "      <th>day_22</th>\n",
       "      <th>day_23</th>\n",
       "      <th>day_24</th>\n",
       "      <th>day_25</th>\n",
       "      <th>day_26</th>\n",
       "      <th>day_27</th>\n",
       "      <th>day_28</th>\n",
       "      <th>day_29</th>\n",
       "      <th>day_30</th>\n",
       "      <th>day_31</th>\n",
       "    </tr>\n",
       "  </thead>\n",
       "  <tbody>\n",
       "    <tr>\n",
       "      <th>0</th>\n",
       "      <td>30</td>\n",
       "      <td>1787</td>\n",
       "      <td>0</td>\n",
       "      <td>0</td>\n",
       "      <td>1</td>\n",
       "      <td>-1</td>\n",
       "      <td>0</td>\n",
       "      <td>0</td>\n",
       "      <td>0</td>\n",
       "      <td>0</td>\n",
       "      <td>...</td>\n",
       "      <td>0</td>\n",
       "      <td>0</td>\n",
       "      <td>0</td>\n",
       "      <td>0</td>\n",
       "      <td>0</td>\n",
       "      <td>0</td>\n",
       "      <td>0</td>\n",
       "      <td>0</td>\n",
       "      <td>0</td>\n",
       "      <td>0</td>\n",
       "    </tr>\n",
       "    <tr>\n",
       "      <th>1</th>\n",
       "      <td>33</td>\n",
       "      <td>4789</td>\n",
       "      <td>1</td>\n",
       "      <td>1</td>\n",
       "      <td>1</td>\n",
       "      <td>339</td>\n",
       "      <td>4</td>\n",
       "      <td>-1</td>\n",
       "      <td>0</td>\n",
       "      <td>0</td>\n",
       "      <td>...</td>\n",
       "      <td>0</td>\n",
       "      <td>0</td>\n",
       "      <td>0</td>\n",
       "      <td>0</td>\n",
       "      <td>0</td>\n",
       "      <td>0</td>\n",
       "      <td>0</td>\n",
       "      <td>0</td>\n",
       "      <td>0</td>\n",
       "      <td>0</td>\n",
       "    </tr>\n",
       "    <tr>\n",
       "      <th>2</th>\n",
       "      <td>35</td>\n",
       "      <td>1350</td>\n",
       "      <td>1</td>\n",
       "      <td>0</td>\n",
       "      <td>1</td>\n",
       "      <td>330</td>\n",
       "      <td>1</td>\n",
       "      <td>-1</td>\n",
       "      <td>0</td>\n",
       "      <td>0</td>\n",
       "      <td>...</td>\n",
       "      <td>0</td>\n",
       "      <td>0</td>\n",
       "      <td>0</td>\n",
       "      <td>0</td>\n",
       "      <td>0</td>\n",
       "      <td>0</td>\n",
       "      <td>0</td>\n",
       "      <td>0</td>\n",
       "      <td>0</td>\n",
       "      <td>0</td>\n",
       "    </tr>\n",
       "    <tr>\n",
       "      <th>3</th>\n",
       "      <td>30</td>\n",
       "      <td>1476</td>\n",
       "      <td>1</td>\n",
       "      <td>1</td>\n",
       "      <td>4</td>\n",
       "      <td>-1</td>\n",
       "      <td>0</td>\n",
       "      <td>0</td>\n",
       "      <td>0</td>\n",
       "      <td>0</td>\n",
       "      <td>...</td>\n",
       "      <td>0</td>\n",
       "      <td>0</td>\n",
       "      <td>0</td>\n",
       "      <td>0</td>\n",
       "      <td>0</td>\n",
       "      <td>0</td>\n",
       "      <td>0</td>\n",
       "      <td>0</td>\n",
       "      <td>0</td>\n",
       "      <td>0</td>\n",
       "    </tr>\n",
       "    <tr>\n",
       "      <th>4</th>\n",
       "      <td>59</td>\n",
       "      <td>0</td>\n",
       "      <td>1</td>\n",
       "      <td>0</td>\n",
       "      <td>1</td>\n",
       "      <td>-1</td>\n",
       "      <td>0</td>\n",
       "      <td>0</td>\n",
       "      <td>0</td>\n",
       "      <td>0</td>\n",
       "      <td>...</td>\n",
       "      <td>0</td>\n",
       "      <td>0</td>\n",
       "      <td>0</td>\n",
       "      <td>0</td>\n",
       "      <td>0</td>\n",
       "      <td>0</td>\n",
       "      <td>0</td>\n",
       "      <td>0</td>\n",
       "      <td>0</td>\n",
       "      <td>0</td>\n",
       "    </tr>\n",
       "  </tbody>\n",
       "</table>\n",
       "<p>5 rows × 74 columns</p>\n",
       "</div>"
      ],
      "text/plain": [
       "   age  balance  housing  loan  campaign  pdays  previous  poutcome  y  \\\n",
       "0   30     1787        0     0         1     -1         0         0  0   \n",
       "1   33     4789        1     1         1    339         4        -1  0   \n",
       "2   35     1350        1     0         1    330         1        -1  0   \n",
       "3   30     1476        1     1         4     -1         0         0  0   \n",
       "4   59        0        1     0         1     -1         0         0  0   \n",
       "\n",
       "   job_admin.  ...  day_22  day_23  day_24  day_25  day_26  day_27  day_28  \\\n",
       "0           0  ...       0       0       0       0       0       0       0   \n",
       "1           0  ...       0       0       0       0       0       0       0   \n",
       "2           0  ...       0       0       0       0       0       0       0   \n",
       "3           0  ...       0       0       0       0       0       0       0   \n",
       "4           0  ...       0       0       0       0       0       0       0   \n",
       "\n",
       "   day_29  day_30  day_31  \n",
       "0       0       0       0  \n",
       "1       0       0       0  \n",
       "2       0       0       0  \n",
       "3       0       0       0  \n",
       "4       0       0       0  \n",
       "\n",
       "[5 rows x 74 columns]"
      ]
     },
     "execution_count": 111,
     "metadata": {},
     "output_type": "execute_result"
    }
   ],
   "source": [
    "df.head()"
   ]
  },
  {
   "cell_type": "code",
   "execution_count": 112,
   "id": "b9a1495a-8b64-476b-ae68-deb4f26a2b54",
   "metadata": {},
   "outputs": [
    {
     "data": {
      "text/plain": [
       "(4521, 74)"
      ]
     },
     "execution_count": 112,
     "metadata": {},
     "output_type": "execute_result"
    }
   ],
   "source": [
    "df.shape"
   ]
  },
  {
   "cell_type": "code",
   "execution_count": 113,
   "id": "6f3dcb66-2ed9-4548-b42d-4b8d78d0f9ae",
   "metadata": {},
   "outputs": [
    {
     "data": {
      "text/plain": [
       "Index(['age', 'balance', 'housing', 'loan', 'campaign', 'pdays', 'previous',\n",
       "       'poutcome', 'y', 'job_admin.', 'job_blue-collar', 'job_entrepreneur',\n",
       "       'job_housemaid', 'job_management', 'job_retired', 'job_self-employed',\n",
       "       'job_services', 'job_student', 'job_technician', 'job_unemployed',\n",
       "       'job_unknown', 'marital_divorced', 'marital_married', 'marital_single',\n",
       "       'education_primary', 'education_secondary', 'education_tertiary',\n",
       "       'education_unknown', 'contact_cellular', 'contact_telephone',\n",
       "       'contact_unknown', 'month_apr', 'month_aug', 'month_dec', 'month_feb',\n",
       "       'month_jan', 'month_jul', 'month_jun', 'month_mar', 'month_may',\n",
       "       'month_nov', 'month_oct', 'month_sep', 'day_1', 'day_2', 'day_3',\n",
       "       'day_4', 'day_5', 'day_6', 'day_7', 'day_8', 'day_9', 'day_10',\n",
       "       'day_11', 'day_12', 'day_13', 'day_14', 'day_15', 'day_16', 'day_17',\n",
       "       'day_18', 'day_19', 'day_20', 'day_21', 'day_22', 'day_23', 'day_24',\n",
       "       'day_25', 'day_26', 'day_27', 'day_28', 'day_29', 'day_30', 'day_31'],\n",
       "      dtype='object')"
      ]
     },
     "execution_count": 113,
     "metadata": {},
     "output_type": "execute_result"
    }
   ],
   "source": [
    "df.columns"
   ]
  },
  {
   "cell_type": "markdown",
   "id": "3a5aad3f-4b12-4426-86f7-8174d12ef8a3",
   "metadata": {},
   "source": [
    "## Let's split the data into Features Variables(X) and Target Variable(y)"
   ]
  },
  {
   "cell_type": "code",
   "execution_count": 114,
   "id": "2aefd7e2-e42b-40a8-9ebd-ef513ed71a13",
   "metadata": {},
   "outputs": [],
   "source": [
    "X=df.drop('y',axis=1)\n",
    "\n",
    "\n",
    "y=df['y']"
   ]
  },
  {
   "cell_type": "code",
   "execution_count": 115,
   "id": "a8aaf2da-541b-4010-adc5-c0fda975173c",
   "metadata": {},
   "outputs": [
    {
     "data": {
      "text/plain": [
       "(4521, 73)"
      ]
     },
     "execution_count": 115,
     "metadata": {},
     "output_type": "execute_result"
    }
   ],
   "source": [
    "X.shape"
   ]
  },
  {
   "cell_type": "code",
   "execution_count": 116,
   "id": "06a3184f-2a73-4346-afc7-d03012036d7a",
   "metadata": {},
   "outputs": [
    {
     "data": {
      "text/plain": [
       "(4521,)"
      ]
     },
     "execution_count": 116,
     "metadata": {},
     "output_type": "execute_result"
    }
   ],
   "source": [
    "y.shape"
   ]
  },
  {
   "cell_type": "markdown",
   "id": "de09a298-04ff-4436-a3a1-855cb19f45c2",
   "metadata": {},
   "source": [
    "## Train Test Split"
   ]
  },
  {
   "cell_type": "code",
   "execution_count": 117,
   "id": "08b1bb7f-bede-46ae-9e29-c197ad7e2501",
   "metadata": {},
   "outputs": [],
   "source": [
    "X_train,X_test,y_train,y_test=train_test_split(X,y, train_size=0.8,random_state=42)"
   ]
  },
  {
   "cell_type": "code",
   "execution_count": 118,
   "id": "183246cd-23a4-4d0f-92c4-c596f25f91f3",
   "metadata": {},
   "outputs": [
    {
     "name": "stdout",
     "output_type": "stream",
     "text": [
      "(3616, 73)\n",
      "(3616,)\n",
      "(905, 73)\n",
      "(905,)\n"
     ]
    }
   ],
   "source": [
    "print(X_train.shape)\n",
    "print(y_train.shape)\n",
    "print(X_test.shape)\n",
    "print(y_test.shape)"
   ]
  },
  {
   "cell_type": "markdown",
   "id": "931f8c43-9875-4404-a0dd-876d49520a94",
   "metadata": {},
   "source": [
    "## Scale the features"
   ]
  },
  {
   "cell_type": "code",
   "execution_count": 119,
   "id": "fcce9265-9b53-489e-a7d2-042f8f8534dc",
   "metadata": {},
   "outputs": [],
   "source": [
    "#Let's create Standart Scaler\n",
    "\n",
    "scale=StandardScaler()"
   ]
  },
  {
   "cell_type": "code",
   "execution_count": 120,
   "id": "8a6524fc-6ec9-45dd-ab8d-b6b0ffe0afc9",
   "metadata": {},
   "outputs": [
    {
     "data": {
      "text/html": [
       "<div>\n",
       "<style scoped>\n",
       "    .dataframe tbody tr th:only-of-type {\n",
       "        vertical-align: middle;\n",
       "    }\n",
       "\n",
       "    .dataframe tbody tr th {\n",
       "        vertical-align: top;\n",
       "    }\n",
       "\n",
       "    .dataframe thead th {\n",
       "        text-align: right;\n",
       "    }\n",
       "</style>\n",
       "<table border=\"1\" class=\"dataframe\">\n",
       "  <thead>\n",
       "    <tr style=\"text-align: right;\">\n",
       "      <th></th>\n",
       "      <th>age</th>\n",
       "      <th>balance</th>\n",
       "      <th>housing</th>\n",
       "      <th>loan</th>\n",
       "      <th>campaign</th>\n",
       "      <th>pdays</th>\n",
       "      <th>previous</th>\n",
       "      <th>poutcome</th>\n",
       "      <th>job_admin.</th>\n",
       "      <th>job_blue-collar</th>\n",
       "      <th>...</th>\n",
       "      <th>day_22</th>\n",
       "      <th>day_23</th>\n",
       "      <th>day_24</th>\n",
       "      <th>day_25</th>\n",
       "      <th>day_26</th>\n",
       "      <th>day_27</th>\n",
       "      <th>day_28</th>\n",
       "      <th>day_29</th>\n",
       "      <th>day_30</th>\n",
       "      <th>day_31</th>\n",
       "    </tr>\n",
       "  </thead>\n",
       "  <tbody>\n",
       "    <tr>\n",
       "      <th>978</th>\n",
       "      <td>34</td>\n",
       "      <td>262</td>\n",
       "      <td>0</td>\n",
       "      <td>0</td>\n",
       "      <td>1</td>\n",
       "      <td>-1</td>\n",
       "      <td>0</td>\n",
       "      <td>0</td>\n",
       "      <td>0</td>\n",
       "      <td>0</td>\n",
       "      <td>...</td>\n",
       "      <td>0</td>\n",
       "      <td>0</td>\n",
       "      <td>0</td>\n",
       "      <td>0</td>\n",
       "      <td>0</td>\n",
       "      <td>0</td>\n",
       "      <td>0</td>\n",
       "      <td>0</td>\n",
       "      <td>0</td>\n",
       "      <td>0</td>\n",
       "    </tr>\n",
       "    <tr>\n",
       "      <th>251</th>\n",
       "      <td>32</td>\n",
       "      <td>2349</td>\n",
       "      <td>0</td>\n",
       "      <td>0</td>\n",
       "      <td>5</td>\n",
       "      <td>-1</td>\n",
       "      <td>0</td>\n",
       "      <td>0</td>\n",
       "      <td>0</td>\n",
       "      <td>0</td>\n",
       "      <td>...</td>\n",
       "      <td>0</td>\n",
       "      <td>0</td>\n",
       "      <td>0</td>\n",
       "      <td>0</td>\n",
       "      <td>0</td>\n",
       "      <td>0</td>\n",
       "      <td>0</td>\n",
       "      <td>0</td>\n",
       "      <td>0</td>\n",
       "      <td>0</td>\n",
       "    </tr>\n",
       "    <tr>\n",
       "      <th>3139</th>\n",
       "      <td>34</td>\n",
       "      <td>1076</td>\n",
       "      <td>0</td>\n",
       "      <td>0</td>\n",
       "      <td>2</td>\n",
       "      <td>-1</td>\n",
       "      <td>0</td>\n",
       "      <td>0</td>\n",
       "      <td>0</td>\n",
       "      <td>0</td>\n",
       "      <td>...</td>\n",
       "      <td>0</td>\n",
       "      <td>0</td>\n",
       "      <td>0</td>\n",
       "      <td>0</td>\n",
       "      <td>0</td>\n",
       "      <td>0</td>\n",
       "      <td>0</td>\n",
       "      <td>0</td>\n",
       "      <td>0</td>\n",
       "      <td>0</td>\n",
       "    </tr>\n",
       "    <tr>\n",
       "      <th>1822</th>\n",
       "      <td>31</td>\n",
       "      <td>156</td>\n",
       "      <td>0</td>\n",
       "      <td>0</td>\n",
       "      <td>7</td>\n",
       "      <td>-1</td>\n",
       "      <td>0</td>\n",
       "      <td>0</td>\n",
       "      <td>0</td>\n",
       "      <td>0</td>\n",
       "      <td>...</td>\n",
       "      <td>0</td>\n",
       "      <td>0</td>\n",
       "      <td>0</td>\n",
       "      <td>0</td>\n",
       "      <td>0</td>\n",
       "      <td>0</td>\n",
       "      <td>0</td>\n",
       "      <td>0</td>\n",
       "      <td>0</td>\n",
       "      <td>0</td>\n",
       "    </tr>\n",
       "    <tr>\n",
       "      <th>4445</th>\n",
       "      <td>46</td>\n",
       "      <td>258</td>\n",
       "      <td>1</td>\n",
       "      <td>0</td>\n",
       "      <td>1</td>\n",
       "      <td>-1</td>\n",
       "      <td>0</td>\n",
       "      <td>0</td>\n",
       "      <td>0</td>\n",
       "      <td>1</td>\n",
       "      <td>...</td>\n",
       "      <td>0</td>\n",
       "      <td>0</td>\n",
       "      <td>0</td>\n",
       "      <td>0</td>\n",
       "      <td>0</td>\n",
       "      <td>1</td>\n",
       "      <td>0</td>\n",
       "      <td>0</td>\n",
       "      <td>0</td>\n",
       "      <td>0</td>\n",
       "    </tr>\n",
       "    <tr>\n",
       "      <th>3159</th>\n",
       "      <td>35</td>\n",
       "      <td>725</td>\n",
       "      <td>1</td>\n",
       "      <td>0</td>\n",
       "      <td>7</td>\n",
       "      <td>133</td>\n",
       "      <td>1</td>\n",
       "      <td>-1</td>\n",
       "      <td>1</td>\n",
       "      <td>0</td>\n",
       "      <td>...</td>\n",
       "      <td>0</td>\n",
       "      <td>0</td>\n",
       "      <td>0</td>\n",
       "      <td>0</td>\n",
       "      <td>0</td>\n",
       "      <td>0</td>\n",
       "      <td>0</td>\n",
       "      <td>0</td>\n",
       "      <td>0</td>\n",
       "      <td>0</td>\n",
       "    </tr>\n",
       "    <tr>\n",
       "      <th>4299</th>\n",
       "      <td>37</td>\n",
       "      <td>0</td>\n",
       "      <td>1</td>\n",
       "      <td>1</td>\n",
       "      <td>2</td>\n",
       "      <td>-1</td>\n",
       "      <td>0</td>\n",
       "      <td>0</td>\n",
       "      <td>0</td>\n",
       "      <td>0</td>\n",
       "      <td>...</td>\n",
       "      <td>0</td>\n",
       "      <td>0</td>\n",
       "      <td>0</td>\n",
       "      <td>0</td>\n",
       "      <td>0</td>\n",
       "      <td>0</td>\n",
       "      <td>0</td>\n",
       "      <td>0</td>\n",
       "      <td>0</td>\n",
       "      <td>1</td>\n",
       "    </tr>\n",
       "    <tr>\n",
       "      <th>2063</th>\n",
       "      <td>39</td>\n",
       "      <td>694</td>\n",
       "      <td>1</td>\n",
       "      <td>0</td>\n",
       "      <td>1</td>\n",
       "      <td>-1</td>\n",
       "      <td>0</td>\n",
       "      <td>0</td>\n",
       "      <td>0</td>\n",
       "      <td>1</td>\n",
       "      <td>...</td>\n",
       "      <td>0</td>\n",
       "      <td>0</td>\n",
       "      <td>0</td>\n",
       "      <td>0</td>\n",
       "      <td>0</td>\n",
       "      <td>0</td>\n",
       "      <td>0</td>\n",
       "      <td>0</td>\n",
       "      <td>0</td>\n",
       "      <td>0</td>\n",
       "    </tr>\n",
       "    <tr>\n",
       "      <th>3815</th>\n",
       "      <td>31</td>\n",
       "      <td>623</td>\n",
       "      <td>1</td>\n",
       "      <td>0</td>\n",
       "      <td>2</td>\n",
       "      <td>349</td>\n",
       "      <td>5</td>\n",
       "      <td>-1</td>\n",
       "      <td>0</td>\n",
       "      <td>0</td>\n",
       "      <td>...</td>\n",
       "      <td>0</td>\n",
       "      <td>0</td>\n",
       "      <td>0</td>\n",
       "      <td>0</td>\n",
       "      <td>0</td>\n",
       "      <td>0</td>\n",
       "      <td>0</td>\n",
       "      <td>0</td>\n",
       "      <td>0</td>\n",
       "      <td>0</td>\n",
       "    </tr>\n",
       "    <tr>\n",
       "      <th>2185</th>\n",
       "      <td>40</td>\n",
       "      <td>1438</td>\n",
       "      <td>1</td>\n",
       "      <td>0</td>\n",
       "      <td>1</td>\n",
       "      <td>351</td>\n",
       "      <td>2</td>\n",
       "      <td>-1</td>\n",
       "      <td>0</td>\n",
       "      <td>0</td>\n",
       "      <td>...</td>\n",
       "      <td>0</td>\n",
       "      <td>0</td>\n",
       "      <td>0</td>\n",
       "      <td>0</td>\n",
       "      <td>0</td>\n",
       "      <td>0</td>\n",
       "      <td>0</td>\n",
       "      <td>0</td>\n",
       "      <td>0</td>\n",
       "      <td>0</td>\n",
       "    </tr>\n",
       "  </tbody>\n",
       "</table>\n",
       "<p>10 rows × 73 columns</p>\n",
       "</div>"
      ],
      "text/plain": [
       "      age  balance  housing  loan  campaign  pdays  previous  poutcome  \\\n",
       "978    34      262        0     0         1     -1         0         0   \n",
       "251    32     2349        0     0         5     -1         0         0   \n",
       "3139   34     1076        0     0         2     -1         0         0   \n",
       "1822   31      156        0     0         7     -1         0         0   \n",
       "4445   46      258        1     0         1     -1         0         0   \n",
       "3159   35      725        1     0         7    133         1        -1   \n",
       "4299   37        0        1     1         2     -1         0         0   \n",
       "2063   39      694        1     0         1     -1         0         0   \n",
       "3815   31      623        1     0         2    349         5        -1   \n",
       "2185   40     1438        1     0         1    351         2        -1   \n",
       "\n",
       "      job_admin.  job_blue-collar  ...  day_22  day_23  day_24  day_25  \\\n",
       "978            0                0  ...       0       0       0       0   \n",
       "251            0                0  ...       0       0       0       0   \n",
       "3139           0                0  ...       0       0       0       0   \n",
       "1822           0                0  ...       0       0       0       0   \n",
       "4445           0                1  ...       0       0       0       0   \n",
       "3159           1                0  ...       0       0       0       0   \n",
       "4299           0                0  ...       0       0       0       0   \n",
       "2063           0                1  ...       0       0       0       0   \n",
       "3815           0                0  ...       0       0       0       0   \n",
       "2185           0                0  ...       0       0       0       0   \n",
       "\n",
       "      day_26  day_27  day_28  day_29  day_30  day_31  \n",
       "978        0       0       0       0       0       0  \n",
       "251        0       0       0       0       0       0  \n",
       "3139       0       0       0       0       0       0  \n",
       "1822       0       0       0       0       0       0  \n",
       "4445       0       1       0       0       0       0  \n",
       "3159       0       0       0       0       0       0  \n",
       "4299       0       0       0       0       0       1  \n",
       "2063       0       0       0       0       0       0  \n",
       "3815       0       0       0       0       0       0  \n",
       "2185       0       0       0       0       0       0  \n",
       "\n",
       "[10 rows x 73 columns]"
      ]
     },
     "execution_count": 120,
     "metadata": {},
     "output_type": "execute_result"
    }
   ],
   "source": [
    "#It is required to scale columns because there are differences the value of columns\n",
    "X_train.head(10)"
   ]
  },
  {
   "cell_type": "code",
   "execution_count": 121,
   "id": "9d7ea729-3704-41d3-a392-80e094f5cb26",
   "metadata": {},
   "outputs": [
    {
     "data": {
      "text/html": [
       "<div>\n",
       "<style scoped>\n",
       "    .dataframe tbody tr th:only-of-type {\n",
       "        vertical-align: middle;\n",
       "    }\n",
       "\n",
       "    .dataframe tbody tr th {\n",
       "        vertical-align: top;\n",
       "    }\n",
       "\n",
       "    .dataframe thead th {\n",
       "        text-align: right;\n",
       "    }\n",
       "</style>\n",
       "<table border=\"1\" class=\"dataframe\">\n",
       "  <thead>\n",
       "    <tr style=\"text-align: right;\">\n",
       "      <th></th>\n",
       "      <th>age</th>\n",
       "      <th>balance</th>\n",
       "      <th>housing</th>\n",
       "      <th>loan</th>\n",
       "      <th>campaign</th>\n",
       "      <th>pdays</th>\n",
       "      <th>previous</th>\n",
       "      <th>poutcome</th>\n",
       "      <th>job_admin.</th>\n",
       "      <th>job_blue-collar</th>\n",
       "      <th>...</th>\n",
       "      <th>day_22</th>\n",
       "      <th>day_23</th>\n",
       "      <th>day_24</th>\n",
       "      <th>day_25</th>\n",
       "      <th>day_26</th>\n",
       "      <th>day_27</th>\n",
       "      <th>day_28</th>\n",
       "      <th>day_29</th>\n",
       "      <th>day_30</th>\n",
       "      <th>day_31</th>\n",
       "    </tr>\n",
       "  </thead>\n",
       "  <tbody>\n",
       "    <tr>\n",
       "      <th>2398</th>\n",
       "      <td>51</td>\n",
       "      <td>-2082</td>\n",
       "      <td>0</td>\n",
       "      <td>1</td>\n",
       "      <td>6</td>\n",
       "      <td>-1</td>\n",
       "      <td>0</td>\n",
       "      <td>0</td>\n",
       "      <td>0</td>\n",
       "      <td>0</td>\n",
       "      <td>...</td>\n",
       "      <td>0</td>\n",
       "      <td>0</td>\n",
       "      <td>0</td>\n",
       "      <td>0</td>\n",
       "      <td>0</td>\n",
       "      <td>0</td>\n",
       "      <td>1</td>\n",
       "      <td>0</td>\n",
       "      <td>0</td>\n",
       "      <td>0</td>\n",
       "    </tr>\n",
       "    <tr>\n",
       "      <th>800</th>\n",
       "      <td>50</td>\n",
       "      <td>2881</td>\n",
       "      <td>0</td>\n",
       "      <td>0</td>\n",
       "      <td>2</td>\n",
       "      <td>2</td>\n",
       "      <td>5</td>\n",
       "      <td>0</td>\n",
       "      <td>0</td>\n",
       "      <td>0</td>\n",
       "      <td>...</td>\n",
       "      <td>0</td>\n",
       "      <td>0</td>\n",
       "      <td>0</td>\n",
       "      <td>0</td>\n",
       "      <td>0</td>\n",
       "      <td>0</td>\n",
       "      <td>0</td>\n",
       "      <td>0</td>\n",
       "      <td>0</td>\n",
       "      <td>0</td>\n",
       "    </tr>\n",
       "    <tr>\n",
       "      <th>2288</th>\n",
       "      <td>50</td>\n",
       "      <td>1412</td>\n",
       "      <td>0</td>\n",
       "      <td>0</td>\n",
       "      <td>3</td>\n",
       "      <td>-1</td>\n",
       "      <td>0</td>\n",
       "      <td>0</td>\n",
       "      <td>0</td>\n",
       "      <td>0</td>\n",
       "      <td>...</td>\n",
       "      <td>0</td>\n",
       "      <td>0</td>\n",
       "      <td>0</td>\n",
       "      <td>0</td>\n",
       "      <td>0</td>\n",
       "      <td>0</td>\n",
       "      <td>0</td>\n",
       "      <td>0</td>\n",
       "      <td>0</td>\n",
       "      <td>0</td>\n",
       "    </tr>\n",
       "    <tr>\n",
       "      <th>2344</th>\n",
       "      <td>37</td>\n",
       "      <td>0</td>\n",
       "      <td>1</td>\n",
       "      <td>0</td>\n",
       "      <td>13</td>\n",
       "      <td>-1</td>\n",
       "      <td>0</td>\n",
       "      <td>0</td>\n",
       "      <td>0</td>\n",
       "      <td>0</td>\n",
       "      <td>...</td>\n",
       "      <td>0</td>\n",
       "      <td>0</td>\n",
       "      <td>0</td>\n",
       "      <td>0</td>\n",
       "      <td>0</td>\n",
       "      <td>0</td>\n",
       "      <td>0</td>\n",
       "      <td>0</td>\n",
       "      <td>0</td>\n",
       "      <td>0</td>\n",
       "    </tr>\n",
       "    <tr>\n",
       "      <th>3615</th>\n",
       "      <td>31</td>\n",
       "      <td>757</td>\n",
       "      <td>0</td>\n",
       "      <td>0</td>\n",
       "      <td>2</td>\n",
       "      <td>-1</td>\n",
       "      <td>0</td>\n",
       "      <td>0</td>\n",
       "      <td>1</td>\n",
       "      <td>0</td>\n",
       "      <td>...</td>\n",
       "      <td>0</td>\n",
       "      <td>0</td>\n",
       "      <td>0</td>\n",
       "      <td>0</td>\n",
       "      <td>0</td>\n",
       "      <td>0</td>\n",
       "      <td>0</td>\n",
       "      <td>0</td>\n",
       "      <td>0</td>\n",
       "      <td>0</td>\n",
       "    </tr>\n",
       "    <tr>\n",
       "      <th>3548</th>\n",
       "      <td>39</td>\n",
       "      <td>-650</td>\n",
       "      <td>0</td>\n",
       "      <td>0</td>\n",
       "      <td>2</td>\n",
       "      <td>364</td>\n",
       "      <td>1</td>\n",
       "      <td>-1</td>\n",
       "      <td>1</td>\n",
       "      <td>0</td>\n",
       "      <td>...</td>\n",
       "      <td>0</td>\n",
       "      <td>0</td>\n",
       "      <td>0</td>\n",
       "      <td>0</td>\n",
       "      <td>0</td>\n",
       "      <td>0</td>\n",
       "      <td>0</td>\n",
       "      <td>0</td>\n",
       "      <td>0</td>\n",
       "      <td>0</td>\n",
       "    </tr>\n",
       "    <tr>\n",
       "      <th>1115</th>\n",
       "      <td>41</td>\n",
       "      <td>5110</td>\n",
       "      <td>1</td>\n",
       "      <td>0</td>\n",
       "      <td>1</td>\n",
       "      <td>-1</td>\n",
       "      <td>0</td>\n",
       "      <td>0</td>\n",
       "      <td>1</td>\n",
       "      <td>0</td>\n",
       "      <td>...</td>\n",
       "      <td>0</td>\n",
       "      <td>0</td>\n",
       "      <td>0</td>\n",
       "      <td>0</td>\n",
       "      <td>0</td>\n",
       "      <td>0</td>\n",
       "      <td>0</td>\n",
       "      <td>0</td>\n",
       "      <td>0</td>\n",
       "      <td>0</td>\n",
       "    </tr>\n",
       "    <tr>\n",
       "      <th>4053</th>\n",
       "      <td>31</td>\n",
       "      <td>360</td>\n",
       "      <td>0</td>\n",
       "      <td>0</td>\n",
       "      <td>1</td>\n",
       "      <td>297</td>\n",
       "      <td>2</td>\n",
       "      <td>0</td>\n",
       "      <td>1</td>\n",
       "      <td>0</td>\n",
       "      <td>...</td>\n",
       "      <td>0</td>\n",
       "      <td>0</td>\n",
       "      <td>0</td>\n",
       "      <td>0</td>\n",
       "      <td>0</td>\n",
       "      <td>0</td>\n",
       "      <td>0</td>\n",
       "      <td>0</td>\n",
       "      <td>0</td>\n",
       "      <td>0</td>\n",
       "    </tr>\n",
       "    <tr>\n",
       "      <th>838</th>\n",
       "      <td>31</td>\n",
       "      <td>454</td>\n",
       "      <td>0</td>\n",
       "      <td>0</td>\n",
       "      <td>3</td>\n",
       "      <td>-1</td>\n",
       "      <td>0</td>\n",
       "      <td>0</td>\n",
       "      <td>0</td>\n",
       "      <td>0</td>\n",
       "      <td>...</td>\n",
       "      <td>0</td>\n",
       "      <td>0</td>\n",
       "      <td>0</td>\n",
       "      <td>0</td>\n",
       "      <td>0</td>\n",
       "      <td>0</td>\n",
       "      <td>0</td>\n",
       "      <td>0</td>\n",
       "      <td>0</td>\n",
       "      <td>0</td>\n",
       "    </tr>\n",
       "    <tr>\n",
       "      <th>4141</th>\n",
       "      <td>37</td>\n",
       "      <td>0</td>\n",
       "      <td>0</td>\n",
       "      <td>0</td>\n",
       "      <td>4</td>\n",
       "      <td>107</td>\n",
       "      <td>2</td>\n",
       "      <td>-1</td>\n",
       "      <td>0</td>\n",
       "      <td>0</td>\n",
       "      <td>...</td>\n",
       "      <td>0</td>\n",
       "      <td>0</td>\n",
       "      <td>0</td>\n",
       "      <td>0</td>\n",
       "      <td>0</td>\n",
       "      <td>0</td>\n",
       "      <td>0</td>\n",
       "      <td>0</td>\n",
       "      <td>0</td>\n",
       "      <td>0</td>\n",
       "    </tr>\n",
       "  </tbody>\n",
       "</table>\n",
       "<p>10 rows × 73 columns</p>\n",
       "</div>"
      ],
      "text/plain": [
       "      age  balance  housing  loan  campaign  pdays  previous  poutcome  \\\n",
       "2398   51    -2082        0     1         6     -1         0         0   \n",
       "800    50     2881        0     0         2      2         5         0   \n",
       "2288   50     1412        0     0         3     -1         0         0   \n",
       "2344   37        0        1     0        13     -1         0         0   \n",
       "3615   31      757        0     0         2     -1         0         0   \n",
       "3548   39     -650        0     0         2    364         1        -1   \n",
       "1115   41     5110        1     0         1     -1         0         0   \n",
       "4053   31      360        0     0         1    297         2         0   \n",
       "838    31      454        0     0         3     -1         0         0   \n",
       "4141   37        0        0     0         4    107         2        -1   \n",
       "\n",
       "      job_admin.  job_blue-collar  ...  day_22  day_23  day_24  day_25  \\\n",
       "2398           0                0  ...       0       0       0       0   \n",
       "800            0                0  ...       0       0       0       0   \n",
       "2288           0                0  ...       0       0       0       0   \n",
       "2344           0                0  ...       0       0       0       0   \n",
       "3615           1                0  ...       0       0       0       0   \n",
       "3548           1                0  ...       0       0       0       0   \n",
       "1115           1                0  ...       0       0       0       0   \n",
       "4053           1                0  ...       0       0       0       0   \n",
       "838            0                0  ...       0       0       0       0   \n",
       "4141           0                0  ...       0       0       0       0   \n",
       "\n",
       "      day_26  day_27  day_28  day_29  day_30  day_31  \n",
       "2398       0       0       1       0       0       0  \n",
       "800        0       0       0       0       0       0  \n",
       "2288       0       0       0       0       0       0  \n",
       "2344       0       0       0       0       0       0  \n",
       "3615       0       0       0       0       0       0  \n",
       "3548       0       0       0       0       0       0  \n",
       "1115       0       0       0       0       0       0  \n",
       "4053       0       0       0       0       0       0  \n",
       "838        0       0       0       0       0       0  \n",
       "4141       0       0       0       0       0       0  \n",
       "\n",
       "[10 rows x 73 columns]"
      ]
     },
     "execution_count": 121,
     "metadata": {},
     "output_type": "execute_result"
    }
   ],
   "source": [
    "#It is required to scale columns because there are differences the value of columns\n",
    "X_test.head(10)"
   ]
  },
  {
   "cell_type": "code",
   "execution_count": 122,
   "id": "7b5a1cdb-8032-44ab-bfa2-9d4d52b5da22",
   "metadata": {},
   "outputs": [],
   "source": [
    "columns=X_train.columns"
   ]
  },
  {
   "cell_type": "code",
   "execution_count": 123,
   "id": "bbc6d7e1-7311-48dc-a254-6c43113959b9",
   "metadata": {},
   "outputs": [],
   "source": [
    "X_train=scale.fit_transform(X_train)\n",
    "X_test=scale.transform(X_test)"
   ]
  },
  {
   "cell_type": "code",
   "execution_count": 124,
   "id": "d015851d-4b02-4917-a21f-c7790240ff8a",
   "metadata": {},
   "outputs": [
    {
     "name": "stdout",
     "output_type": "stream",
     "text": [
      "<class 'numpy.ndarray'>\n",
      "<class 'numpy.ndarray'>\n"
     ]
    }
   ],
   "source": [
    "#the type of data changes ater scaling\n",
    "print(type(X_train))\n",
    "print(type(X_test))"
   ]
  },
  {
   "cell_type": "code",
   "execution_count": 125,
   "id": "806e2197-ff44-4ba0-8a11-84f243e42480",
   "metadata": {},
   "outputs": [],
   "source": [
    "#Let's convert numpy array to pandas dataframe\n",
    "X_train = pd.DataFrame(X_train, columns=columns)\n",
    "X_test = pd.DataFrame(X_test, columns=columns)"
   ]
  },
  {
   "cell_type": "code",
   "execution_count": 126,
   "id": "7a51e7b7-f10a-48a7-8861-9702ff299917",
   "metadata": {},
   "outputs": [
    {
     "data": {
      "text/html": [
       "<div>\n",
       "<style scoped>\n",
       "    .dataframe tbody tr th:only-of-type {\n",
       "        vertical-align: middle;\n",
       "    }\n",
       "\n",
       "    .dataframe tbody tr th {\n",
       "        vertical-align: top;\n",
       "    }\n",
       "\n",
       "    .dataframe thead th {\n",
       "        text-align: right;\n",
       "    }\n",
       "</style>\n",
       "<table border=\"1\" class=\"dataframe\">\n",
       "  <thead>\n",
       "    <tr style=\"text-align: right;\">\n",
       "      <th></th>\n",
       "      <th>age</th>\n",
       "      <th>balance</th>\n",
       "      <th>housing</th>\n",
       "      <th>loan</th>\n",
       "      <th>campaign</th>\n",
       "      <th>pdays</th>\n",
       "      <th>previous</th>\n",
       "      <th>poutcome</th>\n",
       "      <th>job_admin.</th>\n",
       "      <th>job_blue-collar</th>\n",
       "      <th>...</th>\n",
       "      <th>day_22</th>\n",
       "      <th>day_23</th>\n",
       "      <th>day_24</th>\n",
       "      <th>day_25</th>\n",
       "      <th>day_26</th>\n",
       "      <th>day_27</th>\n",
       "      <th>day_28</th>\n",
       "      <th>day_29</th>\n",
       "      <th>day_30</th>\n",
       "      <th>day_31</th>\n",
       "    </tr>\n",
       "  </thead>\n",
       "  <tbody>\n",
       "    <tr>\n",
       "      <th>0</th>\n",
       "      <td>-0.678371</td>\n",
       "      <td>-0.413804</td>\n",
       "      <td>-1.127545</td>\n",
       "      <td>-0.425356</td>\n",
       "      <td>-0.567241</td>\n",
       "      <td>-0.408832</td>\n",
       "      <td>-0.314583</td>\n",
       "      <td>0.215854</td>\n",
       "      <td>-0.333026</td>\n",
       "      <td>-0.514566</td>\n",
       "      <td>...</td>\n",
       "      <td>-0.135295</td>\n",
       "      <td>-0.147504</td>\n",
       "      <td>-0.09299</td>\n",
       "      <td>-0.134231</td>\n",
       "      <td>-0.160672</td>\n",
       "      <td>-0.162474</td>\n",
       "      <td>-0.200689</td>\n",
       "      <td>-0.199942</td>\n",
       "      <td>-0.203653</td>\n",
       "      <td>-0.114756</td>\n",
       "    </tr>\n",
       "    <tr>\n",
       "      <th>1</th>\n",
       "      <td>-0.866030</td>\n",
       "      <td>0.334571</td>\n",
       "      <td>-1.127545</td>\n",
       "      <td>-0.425356</td>\n",
       "      <td>0.671186</td>\n",
       "      <td>-0.408832</td>\n",
       "      <td>-0.314583</td>\n",
       "      <td>0.215854</td>\n",
       "      <td>-0.333026</td>\n",
       "      <td>-0.514566</td>\n",
       "      <td>...</td>\n",
       "      <td>-0.135295</td>\n",
       "      <td>-0.147504</td>\n",
       "      <td>-0.09299</td>\n",
       "      <td>-0.134231</td>\n",
       "      <td>-0.160672</td>\n",
       "      <td>-0.162474</td>\n",
       "      <td>-0.200689</td>\n",
       "      <td>-0.199942</td>\n",
       "      <td>-0.203653</td>\n",
       "      <td>-0.114756</td>\n",
       "    </tr>\n",
       "    <tr>\n",
       "      <th>2</th>\n",
       "      <td>-0.678371</td>\n",
       "      <td>-0.121913</td>\n",
       "      <td>-1.127545</td>\n",
       "      <td>-0.425356</td>\n",
       "      <td>-0.257635</td>\n",
       "      <td>-0.408832</td>\n",
       "      <td>-0.314583</td>\n",
       "      <td>0.215854</td>\n",
       "      <td>-0.333026</td>\n",
       "      <td>-0.514566</td>\n",
       "      <td>...</td>\n",
       "      <td>-0.135295</td>\n",
       "      <td>-0.147504</td>\n",
       "      <td>-0.09299</td>\n",
       "      <td>-0.134231</td>\n",
       "      <td>-0.160672</td>\n",
       "      <td>-0.162474</td>\n",
       "      <td>-0.200689</td>\n",
       "      <td>-0.199942</td>\n",
       "      <td>-0.203653</td>\n",
       "      <td>-0.114756</td>\n",
       "    </tr>\n",
       "    <tr>\n",
       "      <th>3</th>\n",
       "      <td>-0.959860</td>\n",
       "      <td>-0.451815</td>\n",
       "      <td>-1.127545</td>\n",
       "      <td>-0.425356</td>\n",
       "      <td>1.290399</td>\n",
       "      <td>-0.408832</td>\n",
       "      <td>-0.314583</td>\n",
       "      <td>0.215854</td>\n",
       "      <td>-0.333026</td>\n",
       "      <td>-0.514566</td>\n",
       "      <td>...</td>\n",
       "      <td>-0.135295</td>\n",
       "      <td>-0.147504</td>\n",
       "      <td>-0.09299</td>\n",
       "      <td>-0.134231</td>\n",
       "      <td>-0.160672</td>\n",
       "      <td>-0.162474</td>\n",
       "      <td>-0.200689</td>\n",
       "      <td>-0.199942</td>\n",
       "      <td>-0.203653</td>\n",
       "      <td>-0.114756</td>\n",
       "    </tr>\n",
       "    <tr>\n",
       "      <th>4</th>\n",
       "      <td>0.447585</td>\n",
       "      <td>-0.415238</td>\n",
       "      <td>0.886883</td>\n",
       "      <td>-0.425356</td>\n",
       "      <td>-0.567241</td>\n",
       "      <td>-0.408832</td>\n",
       "      <td>-0.314583</td>\n",
       "      <td>0.215854</td>\n",
       "      <td>-0.333026</td>\n",
       "      <td>1.943386</td>\n",
       "      <td>...</td>\n",
       "      <td>-0.135295</td>\n",
       "      <td>-0.147504</td>\n",
       "      <td>-0.09299</td>\n",
       "      <td>-0.134231</td>\n",
       "      <td>-0.160672</td>\n",
       "      <td>6.154813</td>\n",
       "      <td>-0.200689</td>\n",
       "      <td>-0.199942</td>\n",
       "      <td>-0.203653</td>\n",
       "      <td>-0.114756</td>\n",
       "    </tr>\n",
       "    <tr>\n",
       "      <th>5</th>\n",
       "      <td>-0.584541</td>\n",
       "      <td>-0.247778</td>\n",
       "      <td>0.886883</td>\n",
       "      <td>-0.425356</td>\n",
       "      <td>1.290399</td>\n",
       "      <td>0.954711</td>\n",
       "      <td>0.264019</td>\n",
       "      <td>-2.551977</td>\n",
       "      <td>3.002769</td>\n",
       "      <td>-0.514566</td>\n",
       "      <td>...</td>\n",
       "      <td>-0.135295</td>\n",
       "      <td>-0.147504</td>\n",
       "      <td>-0.09299</td>\n",
       "      <td>-0.134231</td>\n",
       "      <td>-0.160672</td>\n",
       "      <td>-0.162474</td>\n",
       "      <td>-0.200689</td>\n",
       "      <td>-0.199942</td>\n",
       "      <td>-0.203653</td>\n",
       "      <td>-0.114756</td>\n",
       "    </tr>\n",
       "    <tr>\n",
       "      <th>6</th>\n",
       "      <td>-0.396882</td>\n",
       "      <td>-0.507754</td>\n",
       "      <td>0.886883</td>\n",
       "      <td>2.350973</td>\n",
       "      <td>-0.257635</td>\n",
       "      <td>-0.408832</td>\n",
       "      <td>-0.314583</td>\n",
       "      <td>0.215854</td>\n",
       "      <td>-0.333026</td>\n",
       "      <td>-0.514566</td>\n",
       "      <td>...</td>\n",
       "      <td>-0.135295</td>\n",
       "      <td>-0.147504</td>\n",
       "      <td>-0.09299</td>\n",
       "      <td>-0.134231</td>\n",
       "      <td>-0.160672</td>\n",
       "      <td>-0.162474</td>\n",
       "      <td>-0.200689</td>\n",
       "      <td>-0.199942</td>\n",
       "      <td>-0.203653</td>\n",
       "      <td>8.714136</td>\n",
       "    </tr>\n",
       "    <tr>\n",
       "      <th>7</th>\n",
       "      <td>-0.209223</td>\n",
       "      <td>-0.258894</td>\n",
       "      <td>0.886883</td>\n",
       "      <td>-0.425356</td>\n",
       "      <td>-0.567241</td>\n",
       "      <td>-0.408832</td>\n",
       "      <td>-0.314583</td>\n",
       "      <td>0.215854</td>\n",
       "      <td>-0.333026</td>\n",
       "      <td>1.943386</td>\n",
       "      <td>...</td>\n",
       "      <td>-0.135295</td>\n",
       "      <td>-0.147504</td>\n",
       "      <td>-0.09299</td>\n",
       "      <td>-0.134231</td>\n",
       "      <td>-0.160672</td>\n",
       "      <td>-0.162474</td>\n",
       "      <td>-0.200689</td>\n",
       "      <td>-0.199942</td>\n",
       "      <td>-0.203653</td>\n",
       "      <td>-0.114756</td>\n",
       "    </tr>\n",
       "    <tr>\n",
       "      <th>8</th>\n",
       "      <td>-0.959860</td>\n",
       "      <td>-0.284354</td>\n",
       "      <td>0.886883</td>\n",
       "      <td>-0.425356</td>\n",
       "      <td>-0.257635</td>\n",
       "      <td>3.152661</td>\n",
       "      <td>2.578429</td>\n",
       "      <td>-2.551977</td>\n",
       "      <td>-0.333026</td>\n",
       "      <td>-0.514566</td>\n",
       "      <td>...</td>\n",
       "      <td>-0.135295</td>\n",
       "      <td>-0.147504</td>\n",
       "      <td>-0.09299</td>\n",
       "      <td>-0.134231</td>\n",
       "      <td>-0.160672</td>\n",
       "      <td>-0.162474</td>\n",
       "      <td>-0.200689</td>\n",
       "      <td>-0.199942</td>\n",
       "      <td>-0.203653</td>\n",
       "      <td>-0.114756</td>\n",
       "    </tr>\n",
       "    <tr>\n",
       "      <th>9</th>\n",
       "      <td>-0.115393</td>\n",
       "      <td>0.007896</td>\n",
       "      <td>0.886883</td>\n",
       "      <td>-0.425356</td>\n",
       "      <td>-0.567241</td>\n",
       "      <td>3.173012</td>\n",
       "      <td>0.842622</td>\n",
       "      <td>-2.551977</td>\n",
       "      <td>-0.333026</td>\n",
       "      <td>-0.514566</td>\n",
       "      <td>...</td>\n",
       "      <td>-0.135295</td>\n",
       "      <td>-0.147504</td>\n",
       "      <td>-0.09299</td>\n",
       "      <td>-0.134231</td>\n",
       "      <td>-0.160672</td>\n",
       "      <td>-0.162474</td>\n",
       "      <td>-0.200689</td>\n",
       "      <td>-0.199942</td>\n",
       "      <td>-0.203653</td>\n",
       "      <td>-0.114756</td>\n",
       "    </tr>\n",
       "  </tbody>\n",
       "</table>\n",
       "<p>10 rows × 73 columns</p>\n",
       "</div>"
      ],
      "text/plain": [
       "        age   balance   housing      loan  campaign     pdays  previous  \\\n",
       "0 -0.678371 -0.413804 -1.127545 -0.425356 -0.567241 -0.408832 -0.314583   \n",
       "1 -0.866030  0.334571 -1.127545 -0.425356  0.671186 -0.408832 -0.314583   \n",
       "2 -0.678371 -0.121913 -1.127545 -0.425356 -0.257635 -0.408832 -0.314583   \n",
       "3 -0.959860 -0.451815 -1.127545 -0.425356  1.290399 -0.408832 -0.314583   \n",
       "4  0.447585 -0.415238  0.886883 -0.425356 -0.567241 -0.408832 -0.314583   \n",
       "5 -0.584541 -0.247778  0.886883 -0.425356  1.290399  0.954711  0.264019   \n",
       "6 -0.396882 -0.507754  0.886883  2.350973 -0.257635 -0.408832 -0.314583   \n",
       "7 -0.209223 -0.258894  0.886883 -0.425356 -0.567241 -0.408832 -0.314583   \n",
       "8 -0.959860 -0.284354  0.886883 -0.425356 -0.257635  3.152661  2.578429   \n",
       "9 -0.115393  0.007896  0.886883 -0.425356 -0.567241  3.173012  0.842622   \n",
       "\n",
       "   poutcome  job_admin.  job_blue-collar  ...    day_22    day_23   day_24  \\\n",
       "0  0.215854   -0.333026        -0.514566  ... -0.135295 -0.147504 -0.09299   \n",
       "1  0.215854   -0.333026        -0.514566  ... -0.135295 -0.147504 -0.09299   \n",
       "2  0.215854   -0.333026        -0.514566  ... -0.135295 -0.147504 -0.09299   \n",
       "3  0.215854   -0.333026        -0.514566  ... -0.135295 -0.147504 -0.09299   \n",
       "4  0.215854   -0.333026         1.943386  ... -0.135295 -0.147504 -0.09299   \n",
       "5 -2.551977    3.002769        -0.514566  ... -0.135295 -0.147504 -0.09299   \n",
       "6  0.215854   -0.333026        -0.514566  ... -0.135295 -0.147504 -0.09299   \n",
       "7  0.215854   -0.333026         1.943386  ... -0.135295 -0.147504 -0.09299   \n",
       "8 -2.551977   -0.333026        -0.514566  ... -0.135295 -0.147504 -0.09299   \n",
       "9 -2.551977   -0.333026        -0.514566  ... -0.135295 -0.147504 -0.09299   \n",
       "\n",
       "     day_25    day_26    day_27    day_28    day_29    day_30    day_31  \n",
       "0 -0.134231 -0.160672 -0.162474 -0.200689 -0.199942 -0.203653 -0.114756  \n",
       "1 -0.134231 -0.160672 -0.162474 -0.200689 -0.199942 -0.203653 -0.114756  \n",
       "2 -0.134231 -0.160672 -0.162474 -0.200689 -0.199942 -0.203653 -0.114756  \n",
       "3 -0.134231 -0.160672 -0.162474 -0.200689 -0.199942 -0.203653 -0.114756  \n",
       "4 -0.134231 -0.160672  6.154813 -0.200689 -0.199942 -0.203653 -0.114756  \n",
       "5 -0.134231 -0.160672 -0.162474 -0.200689 -0.199942 -0.203653 -0.114756  \n",
       "6 -0.134231 -0.160672 -0.162474 -0.200689 -0.199942 -0.203653  8.714136  \n",
       "7 -0.134231 -0.160672 -0.162474 -0.200689 -0.199942 -0.203653 -0.114756  \n",
       "8 -0.134231 -0.160672 -0.162474 -0.200689 -0.199942 -0.203653 -0.114756  \n",
       "9 -0.134231 -0.160672 -0.162474 -0.200689 -0.199942 -0.203653 -0.114756  \n",
       "\n",
       "[10 rows x 73 columns]"
      ]
     },
     "execution_count": 126,
     "metadata": {},
     "output_type": "execute_result"
    }
   ],
   "source": [
    "X_train.head(10)"
   ]
  },
  {
   "cell_type": "code",
   "execution_count": 127,
   "id": "6d8b8fbe-ad7e-4d80-9e4a-6b02c7d4c1e6",
   "metadata": {},
   "outputs": [
    {
     "data": {
      "text/html": [
       "<div>\n",
       "<style scoped>\n",
       "    .dataframe tbody tr th:only-of-type {\n",
       "        vertical-align: middle;\n",
       "    }\n",
       "\n",
       "    .dataframe tbody tr th {\n",
       "        vertical-align: top;\n",
       "    }\n",
       "\n",
       "    .dataframe thead th {\n",
       "        text-align: right;\n",
       "    }\n",
       "</style>\n",
       "<table border=\"1\" class=\"dataframe\">\n",
       "  <thead>\n",
       "    <tr style=\"text-align: right;\">\n",
       "      <th></th>\n",
       "      <th>age</th>\n",
       "      <th>balance</th>\n",
       "      <th>housing</th>\n",
       "      <th>loan</th>\n",
       "      <th>campaign</th>\n",
       "      <th>pdays</th>\n",
       "      <th>previous</th>\n",
       "      <th>poutcome</th>\n",
       "      <th>job_admin.</th>\n",
       "      <th>job_blue-collar</th>\n",
       "      <th>...</th>\n",
       "      <th>day_22</th>\n",
       "      <th>day_23</th>\n",
       "      <th>day_24</th>\n",
       "      <th>day_25</th>\n",
       "      <th>day_26</th>\n",
       "      <th>day_27</th>\n",
       "      <th>day_28</th>\n",
       "      <th>day_29</th>\n",
       "      <th>day_30</th>\n",
       "      <th>day_31</th>\n",
       "    </tr>\n",
       "  </thead>\n",
       "  <tbody>\n",
       "    <tr>\n",
       "      <th>0</th>\n",
       "      <td>0.916734</td>\n",
       "      <td>-1.254336</td>\n",
       "      <td>-1.127545</td>\n",
       "      <td>2.350973</td>\n",
       "      <td>0.980793</td>\n",
       "      <td>-0.408832</td>\n",
       "      <td>-0.314583</td>\n",
       "      <td>0.215854</td>\n",
       "      <td>-0.333026</td>\n",
       "      <td>-0.514566</td>\n",
       "      <td>...</td>\n",
       "      <td>-0.135295</td>\n",
       "      <td>-0.147504</td>\n",
       "      <td>-0.09299</td>\n",
       "      <td>-0.134231</td>\n",
       "      <td>-0.160672</td>\n",
       "      <td>-0.162474</td>\n",
       "      <td>4.982828</td>\n",
       "      <td>-0.199942</td>\n",
       "      <td>-0.203653</td>\n",
       "      <td>-0.114756</td>\n",
       "    </tr>\n",
       "    <tr>\n",
       "      <th>1</th>\n",
       "      <td>0.822904</td>\n",
       "      <td>0.525340</td>\n",
       "      <td>-1.127545</td>\n",
       "      <td>-0.425356</td>\n",
       "      <td>-0.257635</td>\n",
       "      <td>-0.378304</td>\n",
       "      <td>2.578429</td>\n",
       "      <td>0.215854</td>\n",
       "      <td>-0.333026</td>\n",
       "      <td>-0.514566</td>\n",
       "      <td>...</td>\n",
       "      <td>-0.135295</td>\n",
       "      <td>-0.147504</td>\n",
       "      <td>-0.09299</td>\n",
       "      <td>-0.134231</td>\n",
       "      <td>-0.160672</td>\n",
       "      <td>-0.162474</td>\n",
       "      <td>-0.200689</td>\n",
       "      <td>-0.199942</td>\n",
       "      <td>-0.203653</td>\n",
       "      <td>-0.114756</td>\n",
       "    </tr>\n",
       "    <tr>\n",
       "      <th>2</th>\n",
       "      <td>0.822904</td>\n",
       "      <td>-0.001427</td>\n",
       "      <td>-1.127545</td>\n",
       "      <td>-0.425356</td>\n",
       "      <td>0.051972</td>\n",
       "      <td>-0.408832</td>\n",
       "      <td>-0.314583</td>\n",
       "      <td>0.215854</td>\n",
       "      <td>-0.333026</td>\n",
       "      <td>-0.514566</td>\n",
       "      <td>...</td>\n",
       "      <td>-0.135295</td>\n",
       "      <td>-0.147504</td>\n",
       "      <td>-0.09299</td>\n",
       "      <td>-0.134231</td>\n",
       "      <td>-0.160672</td>\n",
       "      <td>-0.162474</td>\n",
       "      <td>-0.200689</td>\n",
       "      <td>-0.199942</td>\n",
       "      <td>-0.203653</td>\n",
       "      <td>-0.114756</td>\n",
       "    </tr>\n",
       "    <tr>\n",
       "      <th>3</th>\n",
       "      <td>-0.396882</td>\n",
       "      <td>-0.507754</td>\n",
       "      <td>0.886883</td>\n",
       "      <td>-0.425356</td>\n",
       "      <td>3.148040</td>\n",
       "      <td>-0.408832</td>\n",
       "      <td>-0.314583</td>\n",
       "      <td>0.215854</td>\n",
       "      <td>-0.333026</td>\n",
       "      <td>-0.514566</td>\n",
       "      <td>...</td>\n",
       "      <td>-0.135295</td>\n",
       "      <td>-0.147504</td>\n",
       "      <td>-0.09299</td>\n",
       "      <td>-0.134231</td>\n",
       "      <td>-0.160672</td>\n",
       "      <td>-0.162474</td>\n",
       "      <td>-0.200689</td>\n",
       "      <td>-0.199942</td>\n",
       "      <td>-0.203653</td>\n",
       "      <td>-0.114756</td>\n",
       "    </tr>\n",
       "    <tr>\n",
       "      <th>4</th>\n",
       "      <td>-0.959860</td>\n",
       "      <td>-0.236303</td>\n",
       "      <td>-1.127545</td>\n",
       "      <td>-0.425356</td>\n",
       "      <td>-0.257635</td>\n",
       "      <td>-0.408832</td>\n",
       "      <td>-0.314583</td>\n",
       "      <td>0.215854</td>\n",
       "      <td>3.002769</td>\n",
       "      <td>-0.514566</td>\n",
       "      <td>...</td>\n",
       "      <td>-0.135295</td>\n",
       "      <td>-0.147504</td>\n",
       "      <td>-0.09299</td>\n",
       "      <td>-0.134231</td>\n",
       "      <td>-0.160672</td>\n",
       "      <td>-0.162474</td>\n",
       "      <td>-0.200689</td>\n",
       "      <td>-0.199942</td>\n",
       "      <td>-0.203653</td>\n",
       "      <td>-0.114756</td>\n",
       "    </tr>\n",
       "    <tr>\n",
       "      <th>5</th>\n",
       "      <td>-0.209223</td>\n",
       "      <td>-0.740837</td>\n",
       "      <td>-1.127545</td>\n",
       "      <td>-0.425356</td>\n",
       "      <td>-0.257635</td>\n",
       "      <td>3.305296</td>\n",
       "      <td>0.264019</td>\n",
       "      <td>-2.551977</td>\n",
       "      <td>3.002769</td>\n",
       "      <td>-0.514566</td>\n",
       "      <td>...</td>\n",
       "      <td>-0.135295</td>\n",
       "      <td>-0.147504</td>\n",
       "      <td>-0.09299</td>\n",
       "      <td>-0.134231</td>\n",
       "      <td>-0.160672</td>\n",
       "      <td>-0.162474</td>\n",
       "      <td>-0.200689</td>\n",
       "      <td>-0.199942</td>\n",
       "      <td>-0.203653</td>\n",
       "      <td>-0.114756</td>\n",
       "    </tr>\n",
       "    <tr>\n",
       "      <th>6</th>\n",
       "      <td>-0.021563</td>\n",
       "      <td>1.324634</td>\n",
       "      <td>0.886883</td>\n",
       "      <td>-0.425356</td>\n",
       "      <td>-0.567241</td>\n",
       "      <td>-0.408832</td>\n",
       "      <td>-0.314583</td>\n",
       "      <td>0.215854</td>\n",
       "      <td>3.002769</td>\n",
       "      <td>-0.514566</td>\n",
       "      <td>...</td>\n",
       "      <td>-0.135295</td>\n",
       "      <td>-0.147504</td>\n",
       "      <td>-0.09299</td>\n",
       "      <td>-0.134231</td>\n",
       "      <td>-0.160672</td>\n",
       "      <td>-0.162474</td>\n",
       "      <td>-0.200689</td>\n",
       "      <td>-0.199942</td>\n",
       "      <td>-0.203653</td>\n",
       "      <td>-0.114756</td>\n",
       "    </tr>\n",
       "    <tr>\n",
       "      <th>7</th>\n",
       "      <td>-0.959860</td>\n",
       "      <td>-0.378662</td>\n",
       "      <td>-1.127545</td>\n",
       "      <td>-0.425356</td>\n",
       "      <td>-0.567241</td>\n",
       "      <td>2.623525</td>\n",
       "      <td>0.842622</td>\n",
       "      <td>0.215854</td>\n",
       "      <td>3.002769</td>\n",
       "      <td>-0.514566</td>\n",
       "      <td>...</td>\n",
       "      <td>-0.135295</td>\n",
       "      <td>-0.147504</td>\n",
       "      <td>-0.09299</td>\n",
       "      <td>-0.134231</td>\n",
       "      <td>-0.160672</td>\n",
       "      <td>-0.162474</td>\n",
       "      <td>-0.200689</td>\n",
       "      <td>-0.199942</td>\n",
       "      <td>-0.203653</td>\n",
       "      <td>-0.114756</td>\n",
       "    </tr>\n",
       "    <tr>\n",
       "      <th>8</th>\n",
       "      <td>-0.959860</td>\n",
       "      <td>-0.344955</td>\n",
       "      <td>-1.127545</td>\n",
       "      <td>-0.425356</td>\n",
       "      <td>0.051972</td>\n",
       "      <td>-0.408832</td>\n",
       "      <td>-0.314583</td>\n",
       "      <td>0.215854</td>\n",
       "      <td>-0.333026</td>\n",
       "      <td>-0.514566</td>\n",
       "      <td>...</td>\n",
       "      <td>-0.135295</td>\n",
       "      <td>-0.147504</td>\n",
       "      <td>-0.09299</td>\n",
       "      <td>-0.134231</td>\n",
       "      <td>-0.160672</td>\n",
       "      <td>-0.162474</td>\n",
       "      <td>-0.200689</td>\n",
       "      <td>-0.199942</td>\n",
       "      <td>-0.203653</td>\n",
       "      <td>-0.114756</td>\n",
       "    </tr>\n",
       "    <tr>\n",
       "      <th>9</th>\n",
       "      <td>-0.396882</td>\n",
       "      <td>-0.507754</td>\n",
       "      <td>-1.127545</td>\n",
       "      <td>-0.425356</td>\n",
       "      <td>0.361579</td>\n",
       "      <td>0.690143</td>\n",
       "      <td>0.842622</td>\n",
       "      <td>-2.551977</td>\n",
       "      <td>-0.333026</td>\n",
       "      <td>-0.514566</td>\n",
       "      <td>...</td>\n",
       "      <td>-0.135295</td>\n",
       "      <td>-0.147504</td>\n",
       "      <td>-0.09299</td>\n",
       "      <td>-0.134231</td>\n",
       "      <td>-0.160672</td>\n",
       "      <td>-0.162474</td>\n",
       "      <td>-0.200689</td>\n",
       "      <td>-0.199942</td>\n",
       "      <td>-0.203653</td>\n",
       "      <td>-0.114756</td>\n",
       "    </tr>\n",
       "  </tbody>\n",
       "</table>\n",
       "<p>10 rows × 73 columns</p>\n",
       "</div>"
      ],
      "text/plain": [
       "        age   balance   housing      loan  campaign     pdays  previous  \\\n",
       "0  0.916734 -1.254336 -1.127545  2.350973  0.980793 -0.408832 -0.314583   \n",
       "1  0.822904  0.525340 -1.127545 -0.425356 -0.257635 -0.378304  2.578429   \n",
       "2  0.822904 -0.001427 -1.127545 -0.425356  0.051972 -0.408832 -0.314583   \n",
       "3 -0.396882 -0.507754  0.886883 -0.425356  3.148040 -0.408832 -0.314583   \n",
       "4 -0.959860 -0.236303 -1.127545 -0.425356 -0.257635 -0.408832 -0.314583   \n",
       "5 -0.209223 -0.740837 -1.127545 -0.425356 -0.257635  3.305296  0.264019   \n",
       "6 -0.021563  1.324634  0.886883 -0.425356 -0.567241 -0.408832 -0.314583   \n",
       "7 -0.959860 -0.378662 -1.127545 -0.425356 -0.567241  2.623525  0.842622   \n",
       "8 -0.959860 -0.344955 -1.127545 -0.425356  0.051972 -0.408832 -0.314583   \n",
       "9 -0.396882 -0.507754 -1.127545 -0.425356  0.361579  0.690143  0.842622   \n",
       "\n",
       "   poutcome  job_admin.  job_blue-collar  ...    day_22    day_23   day_24  \\\n",
       "0  0.215854   -0.333026        -0.514566  ... -0.135295 -0.147504 -0.09299   \n",
       "1  0.215854   -0.333026        -0.514566  ... -0.135295 -0.147504 -0.09299   \n",
       "2  0.215854   -0.333026        -0.514566  ... -0.135295 -0.147504 -0.09299   \n",
       "3  0.215854   -0.333026        -0.514566  ... -0.135295 -0.147504 -0.09299   \n",
       "4  0.215854    3.002769        -0.514566  ... -0.135295 -0.147504 -0.09299   \n",
       "5 -2.551977    3.002769        -0.514566  ... -0.135295 -0.147504 -0.09299   \n",
       "6  0.215854    3.002769        -0.514566  ... -0.135295 -0.147504 -0.09299   \n",
       "7  0.215854    3.002769        -0.514566  ... -0.135295 -0.147504 -0.09299   \n",
       "8  0.215854   -0.333026        -0.514566  ... -0.135295 -0.147504 -0.09299   \n",
       "9 -2.551977   -0.333026        -0.514566  ... -0.135295 -0.147504 -0.09299   \n",
       "\n",
       "     day_25    day_26    day_27    day_28    day_29    day_30    day_31  \n",
       "0 -0.134231 -0.160672 -0.162474  4.982828 -0.199942 -0.203653 -0.114756  \n",
       "1 -0.134231 -0.160672 -0.162474 -0.200689 -0.199942 -0.203653 -0.114756  \n",
       "2 -0.134231 -0.160672 -0.162474 -0.200689 -0.199942 -0.203653 -0.114756  \n",
       "3 -0.134231 -0.160672 -0.162474 -0.200689 -0.199942 -0.203653 -0.114756  \n",
       "4 -0.134231 -0.160672 -0.162474 -0.200689 -0.199942 -0.203653 -0.114756  \n",
       "5 -0.134231 -0.160672 -0.162474 -0.200689 -0.199942 -0.203653 -0.114756  \n",
       "6 -0.134231 -0.160672 -0.162474 -0.200689 -0.199942 -0.203653 -0.114756  \n",
       "7 -0.134231 -0.160672 -0.162474 -0.200689 -0.199942 -0.203653 -0.114756  \n",
       "8 -0.134231 -0.160672 -0.162474 -0.200689 -0.199942 -0.203653 -0.114756  \n",
       "9 -0.134231 -0.160672 -0.162474 -0.200689 -0.199942 -0.203653 -0.114756  \n",
       "\n",
       "[10 rows x 73 columns]"
      ]
     },
     "execution_count": 127,
     "metadata": {},
     "output_type": "execute_result"
    }
   ],
   "source": [
    "X_test.head(10)"
   ]
  },
  {
   "cell_type": "markdown",
   "id": "ab3d3688-dd4d-4e91-a325-2025363127c2",
   "metadata": {},
   "source": [
    "## Model Selection"
   ]
  },
  {
   "cell_type": "markdown",
   "id": "e4484f59-0801-49cd-869d-1937d55815cc",
   "metadata": {},
   "source": [
    "**1.Logistic Regression**"
   ]
  },
  {
   "cell_type": "code",
   "execution_count": 161,
   "id": "9421fc38-edc5-437f-aaa4-57306c863434",
   "metadata": {},
   "outputs": [],
   "source": [
    "lr_model_score=cross_val_score(estimator=LogisticRegression(),X=X_train,y=y_train,cv=5)"
   ]
  },
  {
   "cell_type": "code",
   "execution_count": 162,
   "id": "94703eea-6542-4b1f-9d31-6d67b54d4922",
   "metadata": {},
   "outputs": [
    {
     "name": "stdout",
     "output_type": "stream",
     "text": [
      "[0.88674033 0.89626556 0.8824343  0.88658368 0.89488243]\n"
     ]
    }
   ],
   "source": [
    "print(lr_model_score)"
   ]
  },
  {
   "cell_type": "code",
   "execution_count": 163,
   "id": "c1982209-c4fd-41de-adf9-184cfcda6989",
   "metadata": {},
   "outputs": [
    {
     "name": "stdout",
     "output_type": "stream",
     "text": [
      "0.8893812613190895\n"
     ]
    }
   ],
   "source": [
    "print(lr_model_score.mean())"
   ]
  },
  {
   "cell_type": "markdown",
   "id": "0eeceb4f-d59d-4112-ae5d-534e60d22ffd",
   "metadata": {},
   "source": [
    "**2.Support Vector Machines**"
   ]
  },
  {
   "cell_type": "code",
   "execution_count": 164,
   "id": "ef0b6e95-677e-48fc-afc8-ed746f26788e",
   "metadata": {},
   "outputs": [],
   "source": [
    "svm_model_score=cross_val_score(estimator=SVC(),X=X_train,y=y_train,cv=5)"
   ]
  },
  {
   "cell_type": "code",
   "execution_count": 165,
   "id": "95b09140-4e73-4b35-9bfa-ce1dd22292a4",
   "metadata": {},
   "outputs": [
    {
     "name": "stdout",
     "output_type": "stream",
     "text": [
      "[0.88674033 0.8824343  0.8824343  0.8824343  0.88520055]\n"
     ]
    }
   ],
   "source": [
    "print(svm_model_score)"
   ]
  },
  {
   "cell_type": "code",
   "execution_count": 166,
   "id": "9896860e-fbac-4c8f-a144-8b642c2405ed",
   "metadata": {},
   "outputs": [
    {
     "name": "stdout",
     "output_type": "stream",
     "text": [
      "0.8838487578612748\n"
     ]
    }
   ],
   "source": [
    "print(svm_model_score.mean())"
   ]
  },
  {
   "cell_type": "markdown",
   "id": "6a0f081a-f8e6-4681-afd5-9f18222683a4",
   "metadata": {},
   "source": [
    "**3.Decision Tree**"
   ]
  },
  {
   "cell_type": "code",
   "execution_count": 167,
   "id": "cd0e7d6e-1baf-4261-831b-4e75d449061d",
   "metadata": {},
   "outputs": [],
   "source": [
    "dt_model_score=cross_val_score(estimator=DecisionTreeClassifier(),X=X_train,y=y_train,cv=5)"
   ]
  },
  {
   "cell_type": "code",
   "execution_count": 168,
   "id": "d5c2a9b3-ab33-4617-8c8e-90e6662b96ea",
   "metadata": {},
   "outputs": [
    {
     "name": "stdout",
     "output_type": "stream",
     "text": [
      "[0.83701657 0.82572614 0.79391425 0.81327801 0.82157676]\n"
     ]
    }
   ],
   "source": [
    "print(dt_model_score)"
   ]
  },
  {
   "cell_type": "code",
   "execution_count": 169,
   "id": "e2a358cb-b735-4651-affb-cce322e8be8a",
   "metadata": {},
   "outputs": [
    {
     "name": "stdout",
     "output_type": "stream",
     "text": [
      "0.8183023467290219\n"
     ]
    }
   ],
   "source": [
    "print(dt_model_score.mean())"
   ]
  },
  {
   "cell_type": "markdown",
   "id": "602f5188-def4-44b7-8ce0-2934ec34eafe",
   "metadata": {},
   "source": [
    "**4.Random Forest**"
   ]
  },
  {
   "cell_type": "code",
   "execution_count": 172,
   "id": "9899f584-1cc6-4942-9b2a-eb9c84e43506",
   "metadata": {},
   "outputs": [],
   "source": [
    "rf=RandomForestClassifier()"
   ]
  },
  {
   "cell_type": "code",
   "execution_count": 173,
   "id": "2b56b552-86b8-46a3-af6a-5a8c0454c805",
   "metadata": {},
   "outputs": [],
   "source": [
    "rf_model_score=cross_val_score(estimator=rf,X=X_train,y=y_train,cv=5)"
   ]
  },
  {
   "cell_type": "code",
   "execution_count": 175,
   "id": "567550f4-3aae-42f9-bf0f-281b00db3bf6",
   "metadata": {},
   "outputs": [
    {
     "name": "stdout",
     "output_type": "stream",
     "text": [
      "[0.88950276 0.89211618 0.87828492 0.8769018  0.89211618]\n"
     ]
    }
   ],
   "source": [
    "print(rf_model_score)"
   ]
  },
  {
   "cell_type": "code",
   "execution_count": 176,
   "id": "1ab9717a-c22a-4fcc-8b5a-a63f95b283a7",
   "metadata": {},
   "outputs": [
    {
     "name": "stdout",
     "output_type": "stream",
     "text": [
      "0.8857843699135737\n"
     ]
    }
   ],
   "source": [
    "print(rf_model_score.mean())"
   ]
  },
  {
   "cell_type": "markdown",
   "id": "53ce9dfb-8017-4b25-8340-717eec6ade1d",
   "metadata": {},
   "source": [
    "**Let's create parameters for models**"
   ]
  },
  {
   "cell_type": "code",
   "execution_count": 184,
   "id": "e0caeab8-5ba5-444e-a0e9-154f74db6abd",
   "metadata": {},
   "outputs": [],
   "source": [
    "model_parameters = {\n",
    "    'logistic_params': {\n",
    "        'model': LogisticRegression(),\n",
    "        'param': {\n",
    "            'penalty': ['l1', 'l2'],\n",
    "            'C': [0.1, 1.0, 10.0],\n",
    "            'solver': ['liblinear', 'saga']\n",
    "        }\n",
    "    },\n",
    "    'svm_params': {\n",
    "        'model': SVC(),\n",
    "        'param': {\n",
    "            'C': [0.1, 1.0, 10.0],\n",
    "            'kernel': ['linear', 'rbf', 'poly'],\n",
    "            'gamma': ['scale', 'auto']\n",
    "        }\n",
    "    },\n",
    "    'tree_params': {\n",
    "        'model': DecisionTreeClassifier(),\n",
    "        'param': {\n",
    "            'criterion': ['gini', 'entropy'],\n",
    "            'max_depth': [None, 5, 10],\n",
    "            'min_samples_split': [2, 5, 10]\n",
    "        }\n",
    "    },\n",
    "    'forest_params': {\n",
    "        'model': RandomForestClassifier(),\n",
    "        'param': {\n",
    "            'n_estimators': [100, 200, 500],\n",
    "            'criterion': ['gini', 'entropy'],\n",
    "            'max_depth': [None, 5, 10],\n",
    "            'min_samples_split': [2, 5, 10]\n",
    "        }\n",
    "    }\n",
    "}"
   ]
  },
  {
   "cell_type": "markdown",
   "id": "4d46e099-fbb2-4e31-8467-44219d326a8f",
   "metadata": {},
   "source": [
    "**Grid Search**"
   ]
  },
  {
   "cell_type": "code",
   "execution_count": null,
   "id": "ca5f7eeb-4a00-4eb5-8d24-38b79916dc3d",
   "metadata": {},
   "outputs": [],
   "source": [
    "scores = []\n",
    "\n",
    "for model_name, mp in model_parameters.items():\n",
    "    model_selection = GridSearchCV(estimator=mp['model'], param_grid=mp['param'], cv=5, return_train_score=False)\n",
    "    model_selection.fit(X, y)\n",
    "    scores.append({\n",
    "        'model': model_name,\n",
    "        'best_score': model_selection.best_score_,\n",
    "        'best_params': model_selection.best_params_\n",
    "    })"
   ]
  },
  {
   "cell_type": "code",
   "execution_count": null,
   "id": "d076d968-4f8c-4ad6-8e45-5c19c8d15ffc",
   "metadata": {},
   "outputs": [],
   "source": [
    "scores"
   ]
  },
  {
   "cell_type": "markdown",
   "id": "0b20fe88-3b28-4848-8868-42b2a6bf61fc",
   "metadata": {},
   "source": [
    "## Model Building"
   ]
  },
  {
   "cell_type": "code",
   "execution_count": null,
   "id": "c29f00a1-19a7-4921-8f29-d9eeed67aef9",
   "metadata": {},
   "outputs": [],
   "source": [
    "best_parameters=scores[model_name]['best_params']"
   ]
  },
  {
   "cell_type": "code",
   "execution_count": null,
   "id": "9097e709-ece1-4aba-8678-1b09e2a106a4",
   "metadata": {},
   "outputs": [],
   "source": [
    "rf_model = RandomForestClassifier(**best_params)"
   ]
  },
  {
   "cell_type": "code",
   "execution_count": null,
   "id": "7caec9a9-5598-4369-93b8-04fd3d33105f",
   "metadata": {},
   "outputs": [],
   "source": [
    "rf_model.fit(X_train, y_train)"
   ]
  },
  {
   "cell_type": "code",
   "execution_count": null,
   "id": "7716c7c9-8f81-4889-89d9-91e127e53b98",
   "metadata": {},
   "outputs": [],
   "source": [
    "rf_model.score(X_test,y_test)"
   ]
  },
  {
   "cell_type": "code",
   "execution_count": null,
   "id": "bbc21593-f02e-42b9-a10c-9eef2eb12411",
   "metadata": {},
   "outputs": [],
   "source": []
  }
 ],
 "metadata": {
  "kernelspec": {
   "display_name": "Python 3 (ipykernel)",
   "language": "python",
   "name": "python3"
  },
  "language_info": {
   "codemirror_mode": {
    "name": "ipython",
    "version": 3
   },
   "file_extension": ".py",
   "mimetype": "text/x-python",
   "name": "python",
   "nbconvert_exporter": "python",
   "pygments_lexer": "ipython3",
   "version": "3.9.13"
  }
 },
 "nbformat": 4,
 "nbformat_minor": 5
}
